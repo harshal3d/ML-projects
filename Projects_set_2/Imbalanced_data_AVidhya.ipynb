{
 "cells": [
  {
   "cell_type": "code",
   "execution_count": 77,
   "metadata": {},
   "outputs": [],
   "source": [
    "import numpy as np\n",
    "import pandas as pd\n",
    "import matplotlib.pyplot as plt\n",
    "import seaborn as sns\n",
    "%matplotlib inline"
   ]
  },
  {
   "cell_type": "code",
   "execution_count": 78,
   "metadata": {},
   "outputs": [],
   "source": [
    "df=pd.read_csv(\"train_imbalanced.csv\")"
   ]
  },
  {
   "cell_type": "code",
   "execution_count": 79,
   "metadata": {},
   "outputs": [
    {
     "data": {
      "text/html": [
       "<div>\n",
       "<style scoped>\n",
       "    .dataframe tbody tr th:only-of-type {\n",
       "        vertical-align: middle;\n",
       "    }\n",
       "\n",
       "    .dataframe tbody tr th {\n",
       "        vertical-align: top;\n",
       "    }\n",
       "\n",
       "    .dataframe thead th {\n",
       "        text-align: right;\n",
       "    }\n",
       "</style>\n",
       "<table border=\"1\" class=\"dataframe\">\n",
       "  <thead>\n",
       "    <tr style=\"text-align: right;\">\n",
       "      <th></th>\n",
       "      <th>age</th>\n",
       "      <th>class_of_worker</th>\n",
       "      <th>industry_code</th>\n",
       "      <th>occupation_code</th>\n",
       "      <th>education</th>\n",
       "      <th>wage_per_hour</th>\n",
       "      <th>enrolled_in_edu_inst_lastwk</th>\n",
       "      <th>marital_status</th>\n",
       "      <th>major_industry_code</th>\n",
       "      <th>major_occupation_code</th>\n",
       "      <th>...</th>\n",
       "      <th>country_father</th>\n",
       "      <th>country_mother</th>\n",
       "      <th>country_self</th>\n",
       "      <th>citizenship</th>\n",
       "      <th>business_or_self_employed</th>\n",
       "      <th>fill_questionnaire_veteran_admin</th>\n",
       "      <th>veterans_benefits</th>\n",
       "      <th>weeks_worked_in_year</th>\n",
       "      <th>year</th>\n",
       "      <th>income_level</th>\n",
       "    </tr>\n",
       "  </thead>\n",
       "  <tbody>\n",
       "    <tr>\n",
       "      <th>0</th>\n",
       "      <td>73</td>\n",
       "      <td>Not in universe</td>\n",
       "      <td>0</td>\n",
       "      <td>0</td>\n",
       "      <td>High school graduate</td>\n",
       "      <td>0</td>\n",
       "      <td>Not in universe</td>\n",
       "      <td>Widowed</td>\n",
       "      <td>Not in universe or children</td>\n",
       "      <td>Not in universe</td>\n",
       "      <td>...</td>\n",
       "      <td>United-States</td>\n",
       "      <td>United-States</td>\n",
       "      <td>United-States</td>\n",
       "      <td>Native- Born in the United States</td>\n",
       "      <td>0</td>\n",
       "      <td>Not in universe</td>\n",
       "      <td>2</td>\n",
       "      <td>0</td>\n",
       "      <td>95</td>\n",
       "      <td>-50000</td>\n",
       "    </tr>\n",
       "    <tr>\n",
       "      <th>1</th>\n",
       "      <td>58</td>\n",
       "      <td>Self-employed-not incorporated</td>\n",
       "      <td>4</td>\n",
       "      <td>34</td>\n",
       "      <td>Some college but no degree</td>\n",
       "      <td>0</td>\n",
       "      <td>Not in universe</td>\n",
       "      <td>Divorced</td>\n",
       "      <td>Construction</td>\n",
       "      <td>Precision production craft &amp; repair</td>\n",
       "      <td>...</td>\n",
       "      <td>United-States</td>\n",
       "      <td>United-States</td>\n",
       "      <td>United-States</td>\n",
       "      <td>Native- Born in the United States</td>\n",
       "      <td>0</td>\n",
       "      <td>Not in universe</td>\n",
       "      <td>2</td>\n",
       "      <td>52</td>\n",
       "      <td>94</td>\n",
       "      <td>-50000</td>\n",
       "    </tr>\n",
       "  </tbody>\n",
       "</table>\n",
       "<p>2 rows × 41 columns</p>\n",
       "</div>"
      ],
      "text/plain": [
       "   age                 class_of_worker  industry_code  occupation_code  \\\n",
       "0   73                 Not in universe              0                0   \n",
       "1   58  Self-employed-not incorporated              4               34   \n",
       "\n",
       "                    education  wage_per_hour enrolled_in_edu_inst_lastwk  \\\n",
       "0        High school graduate              0             Not in universe   \n",
       "1  Some college but no degree              0             Not in universe   \n",
       "\n",
       "  marital_status          major_industry_code  \\\n",
       "0        Widowed  Not in universe or children   \n",
       "1       Divorced                 Construction   \n",
       "\n",
       "                 major_occupation_code     ...      country_father  \\\n",
       "0                      Not in universe     ...       United-States   \n",
       "1  Precision production craft & repair     ...       United-States   \n",
       "\n",
       "  country_mother   country_self                        citizenship  \\\n",
       "0  United-States  United-States  Native- Born in the United States   \n",
       "1  United-States  United-States  Native- Born in the United States   \n",
       "\n",
       "  business_or_self_employed fill_questionnaire_veteran_admin  \\\n",
       "0                         0                  Not in universe   \n",
       "1                         0                  Not in universe   \n",
       "\n",
       "   veterans_benefits  weeks_worked_in_year  year income_level  \n",
       "0                  2                     0    95       -50000  \n",
       "1                  2                    52    94       -50000  \n",
       "\n",
       "[2 rows x 41 columns]"
      ]
     },
     "execution_count": 79,
     "metadata": {},
     "output_type": "execute_result"
    }
   ],
   "source": [
    "df[:2]"
   ]
  },
  {
   "cell_type": "code",
   "execution_count": 80,
   "metadata": {},
   "outputs": [
    {
     "name": "stdout",
     "output_type": "stream",
     "text": [
      "<class 'pandas.core.frame.DataFrame'>\n",
      "RangeIndex: 199523 entries, 0 to 199522\n",
      "Data columns (total 41 columns):\n",
      "age                                 199523 non-null int64\n",
      "class_of_worker                     199523 non-null object\n",
      "industry_code                       199523 non-null int64\n",
      "occupation_code                     199523 non-null int64\n",
      "education                           199523 non-null object\n",
      "wage_per_hour                       199523 non-null int64\n",
      "enrolled_in_edu_inst_lastwk         199523 non-null object\n",
      "marital_status                      199523 non-null object\n",
      "major_industry_code                 199523 non-null object\n",
      "major_occupation_code               199523 non-null object\n",
      "race                                199523 non-null object\n",
      "hispanic_origin                     198649 non-null object\n",
      "sex                                 199523 non-null object\n",
      "member_of_labor_union               199523 non-null object\n",
      "reason_for_unemployment             199523 non-null object\n",
      "full_parttime_employment_stat       199523 non-null object\n",
      "capital_gains                       199523 non-null int64\n",
      "capital_losses                      199523 non-null int64\n",
      "dividend_from_Stocks                199523 non-null int64\n",
      "tax_filer_status                    199523 non-null object\n",
      "region_of_previous_residence        199523 non-null object\n",
      "state_of_previous_residence         198815 non-null object\n",
      "d_household_family_stat             199523 non-null object\n",
      "d_household_summary                 199523 non-null object\n",
      "migration_msa                       99827 non-null object\n",
      "migration_reg                       99827 non-null object\n",
      "migration_within_reg                99827 non-null object\n",
      "live_1_year_ago                     199523 non-null object\n",
      "migration_sunbelt                   99827 non-null object\n",
      "num_person_Worked_employer          199523 non-null int64\n",
      "family_members_under_18             199523 non-null object\n",
      "country_father                      192810 non-null object\n",
      "country_mother                      193404 non-null object\n",
      "country_self                        196130 non-null object\n",
      "citizenship                         199523 non-null object\n",
      "business_or_self_employed           199523 non-null int64\n",
      "fill_questionnaire_veteran_admin    199523 non-null object\n",
      "veterans_benefits                   199523 non-null int64\n",
      "weeks_worked_in_year                199523 non-null int64\n",
      "year                                199523 non-null int64\n",
      "income_level                        199523 non-null int64\n",
      "dtypes: int64(13), object(28)\n",
      "memory usage: 62.4+ MB\n"
     ]
    }
   ],
   "source": [
    "df.info()"
   ]
  },
  {
   "cell_type": "code",
   "execution_count": 81,
   "metadata": {},
   "outputs": [
    {
     "data": {
      "text/plain": [
       "age                                     0\n",
       "class_of_worker                         0\n",
       "industry_code                           0\n",
       "occupation_code                         0\n",
       "education                               0\n",
       "wage_per_hour                           0\n",
       "enrolled_in_edu_inst_lastwk             0\n",
       "marital_status                          0\n",
       "major_industry_code                     0\n",
       "major_occupation_code                   0\n",
       "race                                    0\n",
       "hispanic_origin                       874\n",
       "sex                                     0\n",
       "member_of_labor_union                   0\n",
       "reason_for_unemployment                 0\n",
       "full_parttime_employment_stat           0\n",
       "capital_gains                           0\n",
       "capital_losses                          0\n",
       "dividend_from_Stocks                    0\n",
       "tax_filer_status                        0\n",
       "region_of_previous_residence            0\n",
       "state_of_previous_residence           708\n",
       "d_household_family_stat                 0\n",
       "d_household_summary                     0\n",
       "migration_msa                       99696\n",
       "migration_reg                       99696\n",
       "migration_within_reg                99696\n",
       "live_1_year_ago                         0\n",
       "migration_sunbelt                   99696\n",
       "num_person_Worked_employer              0\n",
       "family_members_under_18                 0\n",
       "country_father                       6713\n",
       "country_mother                       6119\n",
       "country_self                         3393\n",
       "citizenship                             0\n",
       "business_or_self_employed               0\n",
       "fill_questionnaire_veteran_admin        0\n",
       "veterans_benefits                       0\n",
       "weeks_worked_in_year                    0\n",
       "year                                    0\n",
       "income_level                            0\n",
       "dtype: int64"
      ]
     },
     "execution_count": 81,
     "metadata": {},
     "output_type": "execute_result"
    }
   ],
   "source": [
    "df.isnull().sum()"
   ]
  },
  {
   "cell_type": "code",
   "execution_count": 82,
   "metadata": {},
   "outputs": [],
   "source": [
    "df1=pd.read_csv(\"test_imbalanced.csv\")"
   ]
  },
  {
   "cell_type": "code",
   "execution_count": 83,
   "metadata": {},
   "outputs": [
    {
     "data": {
      "text/html": [
       "<div>\n",
       "<style scoped>\n",
       "    .dataframe tbody tr th:only-of-type {\n",
       "        vertical-align: middle;\n",
       "    }\n",
       "\n",
       "    .dataframe tbody tr th {\n",
       "        vertical-align: top;\n",
       "    }\n",
       "\n",
       "    .dataframe thead th {\n",
       "        text-align: right;\n",
       "    }\n",
       "</style>\n",
       "<table border=\"1\" class=\"dataframe\">\n",
       "  <thead>\n",
       "    <tr style=\"text-align: right;\">\n",
       "      <th></th>\n",
       "      <th>age</th>\n",
       "      <th>class_of_worker</th>\n",
       "      <th>industry_code</th>\n",
       "      <th>occupation_code</th>\n",
       "      <th>education</th>\n",
       "      <th>wage_per_hour</th>\n",
       "      <th>enrolled_in_edu_inst_lastwk</th>\n",
       "      <th>marital_status</th>\n",
       "      <th>major_industry_code</th>\n",
       "      <th>major_occupation_code</th>\n",
       "      <th>...</th>\n",
       "      <th>country_father</th>\n",
       "      <th>country_mother</th>\n",
       "      <th>country_self</th>\n",
       "      <th>citizenship</th>\n",
       "      <th>business_or_self_employed</th>\n",
       "      <th>fill_questionnaire_veteran_admin</th>\n",
       "      <th>veterans_benefits</th>\n",
       "      <th>weeks_worked_in_year</th>\n",
       "      <th>year</th>\n",
       "      <th>income_level</th>\n",
       "    </tr>\n",
       "  </thead>\n",
       "  <tbody>\n",
       "    <tr>\n",
       "      <th>0</th>\n",
       "      <td>38</td>\n",
       "      <td>Private</td>\n",
       "      <td>6</td>\n",
       "      <td>36</td>\n",
       "      <td>1st 2nd 3rd or 4th grade</td>\n",
       "      <td>0</td>\n",
       "      <td>Not in universe</td>\n",
       "      <td>Married-civilian spouse present</td>\n",
       "      <td>Manufacturing-durable goods</td>\n",
       "      <td>Machine operators assmblrs &amp; inspctrs</td>\n",
       "      <td>...</td>\n",
       "      <td>Mexico</td>\n",
       "      <td>Mexico</td>\n",
       "      <td>Mexico</td>\n",
       "      <td>Foreign born- Not a citizen of U S</td>\n",
       "      <td>0</td>\n",
       "      <td>Not in universe</td>\n",
       "      <td>2</td>\n",
       "      <td>12</td>\n",
       "      <td>95</td>\n",
       "      <td>-50000</td>\n",
       "    </tr>\n",
       "    <tr>\n",
       "      <th>1</th>\n",
       "      <td>44</td>\n",
       "      <td>Self-employed-not incorporated</td>\n",
       "      <td>37</td>\n",
       "      <td>12</td>\n",
       "      <td>Associates degree-occup /vocational</td>\n",
       "      <td>0</td>\n",
       "      <td>Not in universe</td>\n",
       "      <td>Married-civilian spouse present</td>\n",
       "      <td>Business and repair services</td>\n",
       "      <td>Professional specialty</td>\n",
       "      <td>...</td>\n",
       "      <td>United-States</td>\n",
       "      <td>United-States</td>\n",
       "      <td>United-States</td>\n",
       "      <td>Native- Born in the United States</td>\n",
       "      <td>0</td>\n",
       "      <td>Not in universe</td>\n",
       "      <td>2</td>\n",
       "      <td>26</td>\n",
       "      <td>95</td>\n",
       "      <td>-50000</td>\n",
       "    </tr>\n",
       "  </tbody>\n",
       "</table>\n",
       "<p>2 rows × 41 columns</p>\n",
       "</div>"
      ],
      "text/plain": [
       "   age                  class_of_worker  industry_code  occupation_code  \\\n",
       "0   38                          Private              6               36   \n",
       "1   44   Self-employed-not incorporated             37               12   \n",
       "\n",
       "                              education  wage_per_hour  \\\n",
       "0              1st 2nd 3rd or 4th grade              0   \n",
       "1   Associates degree-occup /vocational              0   \n",
       "\n",
       "  enrolled_in_edu_inst_lastwk                    marital_status  \\\n",
       "0             Not in universe   Married-civilian spouse present   \n",
       "1             Not in universe   Married-civilian spouse present   \n",
       "\n",
       "             major_industry_code                   major_occupation_code  \\\n",
       "0    Manufacturing-durable goods   Machine operators assmblrs & inspctrs   \n",
       "1   Business and repair services                  Professional specialty   \n",
       "\n",
       "      ...       country_father  country_mother    country_self  \\\n",
       "0     ...               Mexico          Mexico          Mexico   \n",
       "1     ...        United-States   United-States   United-States   \n",
       "\n",
       "                            citizenship business_or_self_employed  \\\n",
       "0   Foreign born- Not a citizen of U S                          0   \n",
       "1     Native- Born in the United States                         0   \n",
       "\n",
       "  fill_questionnaire_veteran_admin  veterans_benefits  weeks_worked_in_year  \\\n",
       "0                  Not in universe                  2                    12   \n",
       "1                  Not in universe                  2                    26   \n",
       "\n",
       "   year income_level  \n",
       "0    95       -50000  \n",
       "1    95       -50000  \n",
       "\n",
       "[2 rows x 41 columns]"
      ]
     },
     "execution_count": 83,
     "metadata": {},
     "output_type": "execute_result"
    }
   ],
   "source": [
    "df1[:2]"
   ]
  },
  {
   "cell_type": "code",
   "execution_count": 84,
   "metadata": {},
   "outputs": [
    {
     "data": {
      "text/plain": [
       "-50000    187141\n",
       " 50000     12382\n",
       "Name: income_level, dtype: int64"
      ]
     },
     "execution_count": 84,
     "metadata": {},
     "output_type": "execute_result"
    }
   ],
   "source": [
    "df['income_level'].value_counts()"
   ]
  },
  {
   "cell_type": "code",
   "execution_count": 85,
   "metadata": {},
   "outputs": [],
   "source": [
    "a=np.asarray(df['income_level']==-50000)"
   ]
  },
  {
   "cell_type": "code",
   "execution_count": 86,
   "metadata": {},
   "outputs": [],
   "source": [
    "unique, counts = np.unique(a, return_counts=True)\n",
    "\n",
    "w=np.asarray((unique, counts)).T"
   ]
  },
  {
   "cell_type": "code",
   "execution_count": 87,
   "metadata": {},
   "outputs": [],
   "source": [
    "df['income_level']=df['income_level'].replace(['-50000'], '0')\n"
   ]
  },
  {
   "cell_type": "code",
   "execution_count": 96,
   "metadata": {},
   "outputs": [
    {
     "data": {
      "text/plain": [
       "(array([28718., 27274., 23321., 28842., 27970., 21454., 14575., 13245.,\n",
       "         9476.,  4648.]),\n",
       " array([ 0.,  9., 18., 27., 36., 45., 54., 63., 72., 81., 90.]),\n",
       " <a list of 10 Patch objects>)"
      ]
     },
     "execution_count": 96,
     "metadata": {},
     "output_type": "execute_result"
    },
    {
     "data": {
      "image/png": "[encoded data removed]",
      "text/plain": [
       "<Figure size 432x288 with 1 Axes>"
      ]
     },
     "metadata": {
      "needs_background": "light"
     },
     "output_type": "display_data"
    }
   ],
   "source": [
    "plt.hist(df['age'])\n",
    "#sns.kdeplot(df['age'])"
   ]
  },
  {
   "cell_type": "code",
   "execution_count": 98,
   "metadata": {},
   "outputs": [
    {
     "data": {
      "text/plain": [
       "(array([1.95667e+05, 5.10000e+01, 6.80000e+01, 1.22600e+03, 1.96500e+03,\n",
       "        4.38000e+02, 5.30000e+01, 1.40000e+01, 7.00000e+00, 3.40000e+01]),\n",
       " array([   0. ,  460.8,  921.6, 1382.4, 1843.2, 2304. , 2764.8, 3225.6,\n",
       "        3686.4, 4147.2, 4608. ]),\n",
       " <a list of 10 Patch objects>)"
      ]
     },
     "execution_count": 98,
     "metadata": {},
     "output_type": "execute_result"
    },
    {
     "data": {
      "image/png": "[encoded data removed]",
      "text/plain": [
       "<Figure size 432x288 with 1 Axes>"
      ]
     },
     "metadata": {
      "needs_background": "light"
     },
     "output_type": "display_data"
    }
   ],
   "source": [
    "plt.hist(df['capital_losses'])"
   ]
  },
  {
   "cell_type": "code",
   "execution_count": 102,
   "metadata": {},
   "outputs": [
    {
     "data": {
      "text/plain": [
       "<matplotlib.collections.PathCollection at 0x1d90085b908>"
      ]
     },
     "execution_count": 102,
     "metadata": {},
     "output_type": "execute_result"
    },
    {
     "data": {
      "image/png": "[encoded data removed]",
      "text/plain": [
       "<Figure size 432x288 with 1 Axes>"
      ]
     },
     "metadata": {
      "needs_background": "light"
     },
     "output_type": "display_data"
    }
   ],
   "source": [
    "plt.scatter(x=df['age'],y=df['wage_per_hour'],c=df['income_level'])"
   ]
  },
  {
   "cell_type": "code",
   "execution_count": 105,
   "metadata": {},
   "outputs": [],
   "source": [
    "cat_df = df.select_dtypes(include=['object']).copy()"
   ]
  },
  {
   "cell_type": "code",
   "execution_count": 221,
   "metadata": {},
   "outputs": [],
   "source": [
    "num_df=df.select_dtypes(include=['int64']).copy()"
   ]
  },
  {
   "cell_type": "code",
   "execution_count": 222,
   "metadata": {},
   "outputs": [],
   "source": [
    "#df.dtypes"
   ]
  },
  {
   "cell_type": "code",
   "execution_count": 223,
   "metadata": {},
   "outputs": [
    {
     "data": {
      "text/plain": [
       "High school graduate                      48407\n",
       "Children                                  47422\n",
       "Some college but no degree                27820\n",
       "Bachelors degree(BA AB BS)                19865\n",
       "7th and 8th grade                          8007\n",
       "10th grade                                 7557\n",
       "11th grade                                 6876\n",
       "Masters degree(MA MS MEng MEd MSW MBA)     6541\n",
       "9th grade                                  6230\n",
       "Associates degree-occup /vocational        5358\n",
       "Associates degree-academic program         4363\n",
       "5th or 6th grade                           3277\n",
       "12th grade no diploma                      2126\n",
       "1st 2nd 3rd or 4th grade                   1799\n",
       "Prof school degree (MD DDS DVM LLB JD)     1793\n",
       "Doctorate degree(PhD EdD)                  1263\n",
       "Less than 1st grade                         819\n",
       "Name: education, dtype: int64"
      ]
     },
     "execution_count": 223,
     "metadata": {},
     "output_type": "execute_result"
    }
   ],
   "source": [
    "cat_df['education'].value_counts()"
   ]
  },
  {
   "cell_type": "code",
   "execution_count": 224,
   "metadata": {},
   "outputs": [
    {
     "data": {
      "text/html": [
       "<div>\n",
       "<style scoped>\n",
       "    .dataframe tbody tr th:only-of-type {\n",
       "        vertical-align: middle;\n",
       "    }\n",
       "\n",
       "    .dataframe tbody tr th {\n",
       "        vertical-align: top;\n",
       "    }\n",
       "\n",
       "    .dataframe thead th {\n",
       "        text-align: right;\n",
       "    }\n",
       "</style>\n",
       "<table border=\"1\" class=\"dataframe\">\n",
       "  <thead>\n",
       "    <tr style=\"text-align: right;\">\n",
       "      <th></th>\n",
       "      <th>count</th>\n",
       "      <th>unique</th>\n",
       "      <th>top</th>\n",
       "      <th>freq</th>\n",
       "    </tr>\n",
       "    <tr>\n",
       "      <th>income_level</th>\n",
       "      <th></th>\n",
       "      <th></th>\n",
       "      <th></th>\n",
       "      <th></th>\n",
       "    </tr>\n",
       "  </thead>\n",
       "  <tbody>\n",
       "    <tr>\n",
       "      <th>-50000</th>\n",
       "      <td>187141</td>\n",
       "      <td>17</td>\n",
       "      <td>Children</td>\n",
       "      <td>47422</td>\n",
       "    </tr>\n",
       "    <tr>\n",
       "      <th>50000</th>\n",
       "      <td>12382</td>\n",
       "      <td>16</td>\n",
       "      <td>Bachelors degree(BA AB BS)</td>\n",
       "      <td>3915</td>\n",
       "    </tr>\n",
       "  </tbody>\n",
       "</table>\n",
       "</div>"
      ],
      "text/plain": [
       "               count unique                         top   freq\n",
       "income_level                                                  \n",
       "-50000        187141     17                    Children  47422\n",
       " 50000         12382     16  Bachelors degree(BA AB BS)   3915"
      ]
     },
     "execution_count": 224,
     "metadata": {},
     "output_type": "execute_result"
    }
   ],
   "source": [
    "a=df['education'].groupby(df['income_level'])\n",
    "a.describe()"
   ]
  },
  {
   "cell_type": "code",
   "execution_count": 225,
   "metadata": {},
   "outputs": [
    {
     "data": {
      "text/plain": [
       "age                           0\n",
       "industry_code                 0\n",
       "occupation_code               0\n",
       "wage_per_hour                 0\n",
       "capital_gains                 0\n",
       "capital_losses                0\n",
       "dividend_from_Stocks          0\n",
       "num_person_Worked_employer    0\n",
       "business_or_self_employed     0\n",
       "veterans_benefits             0\n",
       "weeks_worked_in_year          0\n",
       "year                          0\n",
       "income_level                  0\n",
       "dtype: int64"
      ]
     },
     "execution_count": 225,
     "metadata": {},
     "output_type": "execute_result"
    }
   ],
   "source": [
    "num_df.isnull().sum()"
   ]
  },
  {
   "cell_type": "code",
   "execution_count": 226,
   "metadata": {},
   "outputs": [
    {
     "data": {
      "text/plain": [
       "class_of_worker                     0\n",
       "education                           0\n",
       "enrolled_in_edu_inst_lastwk         0\n",
       "marital_status                      0\n",
       "major_industry_code                 0\n",
       "major_occupation_code               0\n",
       "race                                0\n",
       "hispanic_origin                     0\n",
       "sex                                 0\n",
       "member_of_labor_union               0\n",
       "reason_for_unemployment             0\n",
       "full_parttime_employment_stat       0\n",
       "tax_filer_status                    0\n",
       "region_of_previous_residence        0\n",
       "state_of_previous_residence         0\n",
       "d_household_family_stat             0\n",
       "d_household_summary                 0\n",
       "live_1_year_ago                     0\n",
       "family_members_under_18             0\n",
       "country_father                      0\n",
       "country_mother                      0\n",
       "country_self                        0\n",
       "citizenship                         0\n",
       "fill_questionnaire_veteran_admin    0\n",
       "dtype: int64"
      ]
     },
     "execution_count": 226,
     "metadata": {},
     "output_type": "execute_result"
    }
   ],
   "source": [
    "cat_df.isnull().sum()"
   ]
  },
  {
   "cell_type": "code",
   "execution_count": 227,
   "metadata": {},
   "outputs": [],
   "source": [
    "import numpy as np\n",
    "\n",
    "# Create correlation matrix\n",
    "corr_matrix = num_df.corr().abs()\n",
    "\n",
    "# Select upper triangle of correlation matrix\n",
    "upper = corr_matrix.where(np.triu(np.ones(corr_matrix.shape), k=1).astype(np.bool))\n",
    "\n",
    "# Find features with correlation greater than 0.95\n",
    "to_drop = [column for column in upper.columns if any(upper[column] > 0.7)]\n",
    "\n",
    "# Drop features \n",
    "#num_df.drop(num_df.columns[to_drop], axis=1)"
   ]
  },
  {
   "cell_type": "code",
   "execution_count": 228,
   "metadata": {},
   "outputs": [],
   "source": [
    "num_df=num_df.drop('weeks_worked_in_year',axis=1)"
   ]
  },
  {
   "cell_type": "code",
   "execution_count": 229,
   "metadata": {},
   "outputs": [
    {
     "data": {
      "text/plain": [
       "class_of_worker                     False\n",
       "education                           False\n",
       "enrolled_in_edu_inst_lastwk         False\n",
       "marital_status                      False\n",
       "major_industry_code                 False\n",
       "major_occupation_code               False\n",
       "race                                False\n",
       "hispanic_origin                     False\n",
       "sex                                 False\n",
       "member_of_labor_union               False\n",
       "reason_for_unemployment             False\n",
       "full_parttime_employment_stat       False\n",
       "tax_filer_status                    False\n",
       "region_of_previous_residence        False\n",
       "state_of_previous_residence         False\n",
       "d_household_family_stat             False\n",
       "d_household_summary                 False\n",
       "live_1_year_ago                     False\n",
       "family_members_under_18             False\n",
       "country_father                      False\n",
       "country_mother                      False\n",
       "country_self                        False\n",
       "citizenship                         False\n",
       "fill_questionnaire_veteran_admin    False\n",
       "dtype: bool"
      ]
     },
     "execution_count": 229,
     "metadata": {},
     "output_type": "execute_result"
    }
   ],
   "source": [
    "(cat_df.isnull().sum()/(len(cat_df))*100>5)"
   ]
  },
  {
   "cell_type": "code",
   "execution_count": 251,
   "metadata": {},
   "outputs": [],
   "source": [
    "#cat_df=cat_df.drop(['migration_msa','migration_reg','migration_within_reg','migration_sunbelt'],axis=1)"
   ]
  },
  {
   "cell_type": "code",
   "execution_count": null,
   "metadata": {},
   "outputs": [],
   "source": [
    "cat_df.isnull().sum()/(len(cat_df))*100"
   ]
  },
  {
   "cell_type": "code",
   "execution_count": null,
   "metadata": {},
   "outputs": [],
   "source": [
    "cat_df['country_self']=cat_df['country_self'].fillna(value='unavailable')\n",
    "cat_df['country_mother']=cat_df['country_mother'].fillna(value='unavailable')\n",
    "cat_df['country_father']=cat_df['country_father'].fillna(value='unavailable')\n",
    "cat_df['state_of_previous_residence']=cat_df['state_of_previous_residence'].fillna(value='unavailable')\n",
    "cat_df['hispanic_origin']=cat_df['hispanic_origin'].fillna(value='unavailable')"
   ]
  },
  {
   "cell_type": "code",
   "execution_count": 231,
   "metadata": {},
   "outputs": [
    {
     "data": {
      "text/plain": [
       "class_of_worker                     0.0\n",
       "education                           0.0\n",
       "enrolled_in_edu_inst_lastwk         0.0\n",
       "marital_status                      0.0\n",
       "major_industry_code                 0.0\n",
       "major_occupation_code               0.0\n",
       "race                                0.0\n",
       "hispanic_origin                     0.0\n",
       "sex                                 0.0\n",
       "member_of_labor_union               0.0\n",
       "reason_for_unemployment             0.0\n",
       "full_parttime_employment_stat       0.0\n",
       "tax_filer_status                    0.0\n",
       "region_of_previous_residence        0.0\n",
       "state_of_previous_residence         0.0\n",
       "d_household_family_stat             0.0\n",
       "d_household_summary                 0.0\n",
       "live_1_year_ago                     0.0\n",
       "family_members_under_18             0.0\n",
       "country_father                      0.0\n",
       "country_mother                      0.0\n",
       "country_self                        0.0\n",
       "citizenship                         0.0\n",
       "fill_questionnaire_veteran_admin    0.0\n",
       "dtype: float64"
      ]
     },
     "execution_count": 231,
     "metadata": {},
     "output_type": "execute_result"
    }
   ],
   "source": [
    "cat_df.isnull().sum()/(len(cat_df))*100"
   ]
  },
  {
   "cell_type": "code",
   "execution_count": 232,
   "metadata": {},
   "outputs": [],
   "source": [
    "#Binning of Ages"
   ]
  },
  {
   "cell_type": "code",
   "execution_count": 233,
   "metadata": {},
   "outputs": [],
   "source": [
    "num_df['age'] = pd.cut(x=num_df['age'], bins=[0,30, 60, 90], labels=['young', 'adult', 'old'])"
   ]
  },
  {
   "cell_type": "code",
   "execution_count": null,
   "metadata": {},
   "outputs": [],
   "source": []
  },
  {
   "cell_type": "code",
   "execution_count": null,
   "metadata": {},
   "outputs": [],
   "source": []
  },
  {
   "cell_type": "code",
   "execution_count": 234,
   "metadata": {},
   "outputs": [],
   "source": [
    "num_df['income_level']=num_df['income_level'].replace(to_replace=50000,value=\"1\")\n",
    "num_df['income_level']=num_df['income_level'].replace(to_replace=-50000,value=\"0\")"
   ]
  },
  {
   "cell_type": "code",
   "execution_count": 235,
   "metadata": {},
   "outputs": [
    {
     "data": {
      "text/plain": [
       "0    187141\n",
       "1     12382\n",
       "Name: income_level, dtype: int64"
      ]
     },
     "execution_count": 235,
     "metadata": {},
     "output_type": "execute_result"
    }
   ],
   "source": [
    "num_df['income_level'].value_counts()"
   ]
  },
  {
   "cell_type": "code",
   "execution_count": null,
   "metadata": {},
   "outputs": [],
   "source": []
  },
  {
   "cell_type": "code",
   "execution_count": null,
   "metadata": {},
   "outputs": [],
   "source": []
  },
  {
   "cell_type": "code",
   "execution_count": null,
   "metadata": {},
   "outputs": [],
   "source": []
  },
  {
   "cell_type": "code",
   "execution_count": 239,
   "metadata": {},
   "outputs": [],
   "source": [
    "import imblearn\n",
    "from sklearn.model_selection import train_test_split"
   ]
  },
  {
   "cell_type": "code",
   "execution_count": 301,
   "metadata": {},
   "outputs": [],
   "source": [
    "from imblearn.over_sampling import SMOTE\n",
    "\n",
    "# Separate input features and target\n",
    "y = num_df.income_level\n",
    "X = num_df.drop(['income_level','year'], axis=1)\n",
    "\n",
    "# setting up testing and training sets\n",
    "X_train, X_test, y_train, y_test = train_test_split(X, y, test_size=0.25, random_state=101)\n",
    "\n",
    "sm = SMOTE(random_state=101, ratio=1.0)\n",
    "X_train, y_train = sm.fit_sample(X, y)"
   ]
  },
  {
   "cell_type": "code",
   "execution_count": null,
   "metadata": {},
   "outputs": [],
   "source": []
  },
  {
   "cell_type": "code",
   "execution_count": 242,
   "metadata": {},
   "outputs": [],
   "source": [
    "num_df=num_df.drop(['wage_per_hour','capital_gains','capital_losses','dividend_from_Stocks','age'],axis=1)"
   ]
  },
  {
   "cell_type": "code",
   "execution_count": 243,
   "metadata": {},
   "outputs": [],
   "source": [
    "num_df['income_level']=num_df['income_level'].astype('int64')"
   ]
  },
  {
   "cell_type": "code",
   "execution_count": 244,
   "metadata": {},
   "outputs": [
    {
     "data": {
      "text/plain": [
       "industry_code                 int64\n",
       "occupation_code               int64\n",
       "num_person_Worked_employer    int64\n",
       "business_or_self_employed     int64\n",
       "veterans_benefits             int64\n",
       "year                          int64\n",
       "income_level                  int64\n",
       "dtype: object"
      ]
     },
     "execution_count": 244,
     "metadata": {},
     "output_type": "execute_result"
    }
   ],
   "source": [
    "num_df.dtypes"
   ]
  },
  {
   "cell_type": "code",
   "execution_count": 248,
   "metadata": {},
   "outputs": [],
   "source": [
    "from imblearn.over_sampling import RandomOverSampler\n",
    "from imblearn.under_sampling import RandomUnderSampler"
   ]
  },
  {
   "cell_type": "code",
   "execution_count": 250,
   "metadata": {},
   "outputs": [],
   "source": [
    "####Similarly under-sampling and over-sampling can too be done"
   ]
  },
  {
   "cell_type": "code",
   "execution_count": 302,
   "metadata": {},
   "outputs": [
    {
     "data": {
      "text/plain": [
       "LogisticRegression(C=0.01, class_weight=None, dual=False, fit_intercept=True,\n",
       "                   intercept_scaling=1, l1_ratio=None, max_iter=100,\n",
       "                   multi_class='warn', n_jobs=None, penalty='l2',\n",
       "                   random_state=None, solver='liblinear', tol=0.0001, verbose=0,\n",
       "                   warm_start=False)"
      ]
     },
     "execution_count": 302,
     "metadata": {},
     "output_type": "execute_result"
    }
   ],
   "source": [
    "from sklearn.linear_model import LogisticRegression\n",
    "from sklearn.metrics import confusion_matrix\n",
    "LR = LogisticRegression(C=0.01, solver='liblinear').fit(X_train,y_train)\n",
    "LR"
   ]
  },
  {
   "cell_type": "code",
   "execution_count": 303,
   "metadata": {},
   "outputs": [
    {
     "data": {
      "text/plain": [
       "array([0, 0, 0, ..., 0, 1, 0], dtype=int64)"
      ]
     },
     "execution_count": 303,
     "metadata": {},
     "output_type": "execute_result"
    }
   ],
   "source": [
    "yhat = LR.predict(X_test)\n",
    "yhat"
   ]
  },
  {
   "cell_type": "code",
   "execution_count": 304,
   "metadata": {},
   "outputs": [
    {
     "name": "stderr",
     "output_type": "stream",
     "text": [
      "C:\\Users\\LENOVO\\Anaconda3new\\lib\\site-packages\\sklearn\\metrics\\classification.py:635: DeprecationWarning: jaccard_similarity_score has been deprecated and replaced with jaccard_score. It will be removed in version 0.23. This implementation has surprising behavior for binary and multiclass classification tasks.\n",
      "  'and multiclass classification tasks.', DeprecationWarning)\n"
     ]
    },
    {
     "data": {
      "text/plain": [
       "0.7107114933541829"
      ]
     },
     "execution_count": 304,
     "metadata": {},
     "output_type": "execute_result"
    }
   ],
   "source": [
    "from sklearn.metrics import jaccard_similarity_score,f1_score,classification_report\n",
    "jaccard_similarity_score(y_test, yhat)"
   ]
  },
  {
   "cell_type": "code",
   "execution_count": 305,
   "metadata": {},
   "outputs": [
    {
     "data": {
      "text/plain": [
       "0.2548796860477125"
      ]
     },
     "execution_count": 305,
     "metadata": {},
     "output_type": "execute_result"
    }
   ],
   "source": [
    "f1_score(y_test,yhat)"
   ]
  },
  {
   "cell_type": "code",
   "execution_count": 306,
   "metadata": {},
   "outputs": [
    {
     "name": "stdout",
     "output_type": "stream",
     "text": [
      "              precision    recall  f1-score   support\n",
      "\n",
      "           0       0.98      0.71      0.82     46711\n",
      "           1       0.15      0.78      0.25      3170\n",
      "\n",
      "    accuracy                           0.71     49881\n",
      "   macro avg       0.57      0.74      0.54     49881\n",
      "weighted avg       0.93      0.71      0.78     49881\n",
      "\n"
     ]
    }
   ],
   "source": [
    "print (classification_report(y_test, yhat))\n"
   ]
  },
  {
   "cell_type": "code",
   "execution_count": 307,
   "metadata": {},
   "outputs": [],
   "source": [
    "from xgboost import XGBClassifier"
   ]
  },
  {
   "cell_type": "code",
   "execution_count": 308,
   "metadata": {},
   "outputs": [
    {
     "data": {
      "text/plain": [
       "XGBClassifier(base_score=0.5, booster='gbtree', colsample_bylevel=1,\n",
       "              colsample_bynode=1, colsample_bytree=1, gamma=0,\n",
       "              learning_rate=0.1, max_delta_step=0, max_depth=3,\n",
       "              min_child_weight=1, missing=None, n_estimators=100, n_jobs=1,\n",
       "              nthread=None, objective='binary:logistic', random_state=0,\n",
       "              reg_alpha=0, reg_lambda=1, scale_pos_weight=1, seed=None,\n",
       "              silent=None, subsample=1, verbosity=1)"
      ]
     },
     "execution_count": 308,
     "metadata": {},
     "output_type": "execute_result"
    }
   ],
   "source": [
    "model = XGBClassifier()\n",
    "model.fit(X_train, y_train)"
   ]
  },
  {
   "cell_type": "code",
   "execution_count": 309,
   "metadata": {},
   "outputs": [],
   "source": [
    "y_pred = model.predict(X_train)\n",
    "#predictions = [round(value) for value in y_pred]"
   ]
  },
  {
   "cell_type": "code",
   "execution_count": 310,
   "metadata": {},
   "outputs": [
    {
     "name": "stdout",
     "output_type": "stream",
     "text": [
      "              precision    recall  f1-score   support\n",
      "\n",
      "           0       0.84      0.79      0.81    187141\n",
      "           1       0.80      0.85      0.83    187141\n",
      "\n",
      "    accuracy                           0.82    374282\n",
      "   macro avg       0.82      0.82      0.82    374282\n",
      "weighted avg       0.82      0.82      0.82    374282\n",
      "\n"
     ]
    }
   ],
   "source": [
    "print (classification_report(y_train, y_pred))"
   ]
  },
  {
   "cell_type": "code",
   "execution_count": 311,
   "metadata": {},
   "outputs": [],
   "source": [
    "y_pred = model.predict(X_test.values)\n",
    "#predictions = [round(value) for value in y_pred]"
   ]
  },
  {
   "cell_type": "code",
   "execution_count": 312,
   "metadata": {},
   "outputs": [
    {
     "name": "stdout",
     "output_type": "stream",
     "text": [
      "              precision    recall  f1-score   support\n",
      "\n",
      "           0       0.99      0.79      0.88     46711\n",
      "           1       0.21      0.86      0.34      3170\n",
      "\n",
      "    accuracy                           0.79     49881\n",
      "   macro avg       0.60      0.82      0.61     49881\n",
      "weighted avg       0.94      0.79      0.84     49881\n",
      "\n"
     ]
    }
   ],
   "source": [
    "print (classification_report(y_test, y_pred))"
   ]
  },
  {
   "cell_type": "code",
   "execution_count": 313,
   "metadata": {},
   "outputs": [
    {
     "data": {
      "text/plain": [
       "0.3420787083753784"
      ]
     },
     "execution_count": 313,
     "metadata": {},
     "output_type": "execute_result"
    }
   ],
   "source": [
    "f1_score(y_test,y_pred)"
   ]
  },
  {
   "cell_type": "code",
   "execution_count": 283,
   "metadata": {},
   "outputs": [
    {
     "data": {
      "image/png": "[encoded data removed]",
      "text/plain": [
       "<Figure size 1440x1440 with 2 Axes>"
      ]
     },
     "metadata": {
      "needs_background": "light"
     },
     "output_type": "display_data"
    }
   ],
   "source": [
    "E = num_df.iloc[:,0:6]  #independent columns\n",
    "f = num_df.iloc[:,-1]    #target column i.e price range\n",
    "#get correlations of each features in dataset\n",
    "corrmat = num_df.corr()\n",
    "top_corr_features = corrmat.index\n",
    "plt.figure(figsize=(20,20))\n",
    "#plot heat map\n",
    "g=sns.heatmap(num_df[top_corr_features].corr(),annot=True,cmap=\"RdYlGn\")"
   ]
  },
  {
   "cell_type": "code",
   "execution_count": 284,
   "metadata": {},
   "outputs": [
    {
     "name": "stderr",
     "output_type": "stream",
     "text": [
      "C:\\Users\\LENOVO\\Anaconda3new\\lib\\site-packages\\sklearn\\ensemble\\forest.py:245: FutureWarning: The default value of n_estimators will change from 10 in version 0.20 to 100 in 0.22.\n",
      "  \"10 in version 0.20 to 100 in 0.22.\", FutureWarning)\n"
     ]
    },
    {
     "name": "stdout",
     "output_type": "stream",
     "text": [
      "[0.34456029 0.47463883 0.13916335 0.02002989 0.00992988 0.01167776]\n"
     ]
    },
    {
     "data": {
      "image/png": "[encoded data removed]",
      "text/plain": [
       "<Figure size 432x288 with 1 Axes>"
      ]
     },
     "metadata": {
      "needs_background": "light"
     },
     "output_type": "display_data"
    }
   ],
   "source": [
    "C = num_df.iloc[:,0:6]  #independent columns\n",
    "d = num_df.iloc[:,-1]    #target column i.e price range\n",
    "from sklearn.ensemble import ExtraTreesClassifier\n",
    "import matplotlib.pyplot as plt\n",
    "model = ExtraTreesClassifier()\n",
    "model.fit(C,d)\n",
    "print(model.feature_importances_) #use inbuilt class feature_importances of tree based classifiers\n",
    "#plot graph of feature importances for better visualization\n",
    "feat_importances = pd.Series(model.feature_importances_, index=C.columns)\n",
    "feat_importances.nlargest(10).plot(kind='barh')\n",
    "plt.show()\n"
   ]
  },
  {
   "cell_type": "code",
   "execution_count": 300,
   "metadata": {},
   "outputs": [
    {
     "name": "stdout",
     "output_type": "stream",
     "text": [
      "                        Specs          Score\n",
      "0               industry_code  163285.428460\n",
      "2  num_person_Worked_employer   28292.308626\n",
      "4           veterans_benefits    1896.591909\n",
      "1             occupation_code     663.385633\n",
      "3   business_or_self_employed     571.119727\n",
      "5                        year       0.115521\n"
     ]
    }
   ],
   "source": [
    "from sklearn.feature_selection import SelectKBest\n",
    "from sklearn.feature_selection import chi2\n",
    "#data = pd.read_csv(\"D://Blogs//train.csv\")\n",
    "A = num_df.iloc[:,0:6]  #independent columns\n",
    "b = df.iloc[:,-1]    #target column i.e price range\n",
    "#apply SelectKBest class to extract top 10 best features\n",
    "bestfeatures = SelectKBest(score_func=chi2, k=6)\n",
    "fit = bestfeatures.fit(A,b)\n",
    "dfscores = pd.DataFrame(fit.scores_)\n",
    "dfcolumns = pd.DataFrame(A.columns)\n",
    "#concat two dataframes for better visualization \n",
    "featureScores = pd.concat([dfcolumns,dfscores],axis=1)\n",
    "featureScores.columns = ['Specs','Score']  #naming the dataframe columns\n",
    "print(featureScores.nlargest(6,'Score'))  #print 10 best features"
   ]
  },
  {
   "cell_type": "code",
   "execution_count": null,
   "metadata": {},
   "outputs": [],
   "source": []
  }
 ],
 "metadata": {
  "kernelspec": {
   "display_name": "Python 3",
   "language": "python",
   "name": "python3"
  },
  "language_info": {
   "codemirror_mode": {
    "name": "ipython",
    "version": 3
   },
   "file_extension": ".py",
   "mimetype": "text/x-python",
   "name": "python",
   "nbconvert_exporter": "python",
   "pygments_lexer": "ipython3",
   "version": "3.7.1"
  }
 },
 "nbformat": 4,
 "nbformat_minor": 2
}
