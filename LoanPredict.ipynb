{
 "cells": [
  {
   "cell_type": "code",
   "execution_count": 49,
   "metadata": {},
   "outputs": [],
   "source": [
    "import numpy as np\n",
    "import pandas as pd\n",
    "import matplotlib.pyplot as plt\n",
    "import seaborn as sns\n",
    "%matplotlib inline\n"
   ]
  },
  {
   "cell_type": "code",
   "execution_count": 50,
   "metadata": {},
   "outputs": [],
   "source": [
    "df=pd.read_csv('Loandata.csv')"
   ]
  },
  {
   "cell_type": "code",
   "execution_count": 51,
   "metadata": {},
   "outputs": [
    {
     "data": {
      "text/html": [
       "<div>\n",
       "<style scoped>\n",
       "    .dataframe tbody tr th:only-of-type {\n",
       "        vertical-align: middle;\n",
       "    }\n",
       "\n",
       "    .dataframe tbody tr th {\n",
       "        vertical-align: top;\n",
       "    }\n",
       "\n",
       "    .dataframe thead th {\n",
       "        text-align: right;\n",
       "    }\n",
       "</style>\n",
       "<table border=\"1\" class=\"dataframe\">\n",
       "  <thead>\n",
       "    <tr style=\"text-align: right;\">\n",
       "      <th></th>\n",
       "      <th>Loan_ID</th>\n",
       "      <th>Gender</th>\n",
       "      <th>Married</th>\n",
       "      <th>Dependents</th>\n",
       "      <th>Education</th>\n",
       "      <th>Self_Employed</th>\n",
       "      <th>ApplicantIncome</th>\n",
       "      <th>CoapplicantIncome</th>\n",
       "      <th>LoanAmount</th>\n",
       "      <th>Loan_Amount_Term</th>\n",
       "      <th>Credit_History</th>\n",
       "      <th>Property_Area</th>\n",
       "      <th>Loan_Status</th>\n",
       "    </tr>\n",
       "  </thead>\n",
       "  <tbody>\n",
       "    <tr>\n",
       "      <th>0</th>\n",
       "      <td>LP001002</td>\n",
       "      <td>Male</td>\n",
       "      <td>No</td>\n",
       "      <td>0</td>\n",
       "      <td>Graduate</td>\n",
       "      <td>No</td>\n",
       "      <td>5849</td>\n",
       "      <td>0.0</td>\n",
       "      <td>NaN</td>\n",
       "      <td>360.0</td>\n",
       "      <td>1.0</td>\n",
       "      <td>Urban</td>\n",
       "      <td>Y</td>\n",
       "    </tr>\n",
       "    <tr>\n",
       "      <th>1</th>\n",
       "      <td>LP001003</td>\n",
       "      <td>Male</td>\n",
       "      <td>Yes</td>\n",
       "      <td>1</td>\n",
       "      <td>Graduate</td>\n",
       "      <td>No</td>\n",
       "      <td>4583</td>\n",
       "      <td>1508.0</td>\n",
       "      <td>128.0</td>\n",
       "      <td>360.0</td>\n",
       "      <td>1.0</td>\n",
       "      <td>Rural</td>\n",
       "      <td>N</td>\n",
       "    </tr>\n",
       "    <tr>\n",
       "      <th>2</th>\n",
       "      <td>LP001005</td>\n",
       "      <td>Male</td>\n",
       "      <td>Yes</td>\n",
       "      <td>0</td>\n",
       "      <td>Graduate</td>\n",
       "      <td>Yes</td>\n",
       "      <td>3000</td>\n",
       "      <td>0.0</td>\n",
       "      <td>66.0</td>\n",
       "      <td>360.0</td>\n",
       "      <td>1.0</td>\n",
       "      <td>Urban</td>\n",
       "      <td>Y</td>\n",
       "    </tr>\n",
       "    <tr>\n",
       "      <th>3</th>\n",
       "      <td>LP001006</td>\n",
       "      <td>Male</td>\n",
       "      <td>Yes</td>\n",
       "      <td>0</td>\n",
       "      <td>Not Graduate</td>\n",
       "      <td>No</td>\n",
       "      <td>2583</td>\n",
       "      <td>2358.0</td>\n",
       "      <td>120.0</td>\n",
       "      <td>360.0</td>\n",
       "      <td>1.0</td>\n",
       "      <td>Urban</td>\n",
       "      <td>Y</td>\n",
       "    </tr>\n",
       "    <tr>\n",
       "      <th>4</th>\n",
       "      <td>LP001008</td>\n",
       "      <td>Male</td>\n",
       "      <td>No</td>\n",
       "      <td>0</td>\n",
       "      <td>Graduate</td>\n",
       "      <td>No</td>\n",
       "      <td>6000</td>\n",
       "      <td>0.0</td>\n",
       "      <td>141.0</td>\n",
       "      <td>360.0</td>\n",
       "      <td>1.0</td>\n",
       "      <td>Urban</td>\n",
       "      <td>Y</td>\n",
       "    </tr>\n",
       "  </tbody>\n",
       "</table>\n",
       "</div>"
      ],
      "text/plain": [
       "    Loan_ID Gender Married Dependents     Education Self_Employed  \\\n",
       "0  LP001002   Male      No          0      Graduate            No   \n",
       "1  LP001003   Male     Yes          1      Graduate            No   \n",
       "2  LP001005   Male     Yes          0      Graduate           Yes   \n",
       "3  LP001006   Male     Yes          0  Not Graduate            No   \n",
       "4  LP001008   Male      No          0      Graduate            No   \n",
       "\n",
       "   ApplicantIncome  CoapplicantIncome  LoanAmount  Loan_Amount_Term  \\\n",
       "0             5849                0.0         NaN             360.0   \n",
       "1             4583             1508.0       128.0             360.0   \n",
       "2             3000                0.0        66.0             360.0   \n",
       "3             2583             2358.0       120.0             360.0   \n",
       "4             6000                0.0       141.0             360.0   \n",
       "\n",
       "   Credit_History Property_Area Loan_Status  \n",
       "0             1.0         Urban           Y  \n",
       "1             1.0         Rural           N  \n",
       "2             1.0         Urban           Y  \n",
       "3             1.0         Urban           Y  \n",
       "4             1.0         Urban           Y  "
      ]
     },
     "execution_count": 51,
     "metadata": {},
     "output_type": "execute_result"
    }
   ],
   "source": [
    "df.head()"
   ]
  },
  {
   "cell_type": "code",
   "execution_count": 52,
   "metadata": {},
   "outputs": [
    {
     "name": "stdout",
     "output_type": "stream",
     "text": [
      "<class 'pandas.core.frame.DataFrame'>\n",
      "RangeIndex: 614 entries, 0 to 613\n",
      "Data columns (total 13 columns):\n",
      "Loan_ID              614 non-null object\n",
      "Gender               601 non-null object\n",
      "Married              611 non-null object\n",
      "Dependents           599 non-null object\n",
      "Education            614 non-null object\n",
      "Self_Employed        582 non-null object\n",
      "ApplicantIncome      614 non-null int64\n",
      "CoapplicantIncome    614 non-null float64\n",
      "LoanAmount           592 non-null float64\n",
      "Loan_Amount_Term     600 non-null float64\n",
      "Credit_History       564 non-null float64\n",
      "Property_Area        614 non-null object\n",
      "Loan_Status          614 non-null object\n",
      "dtypes: float64(4), int64(1), object(8)\n",
      "memory usage: 62.4+ KB\n"
     ]
    }
   ],
   "source": [
    "df.info()"
   ]
  },
  {
   "cell_type": "code",
   "execution_count": 53,
   "metadata": {},
   "outputs": [
    {
     "data": {
      "text/plain": [
       "Loan_ID               0\n",
       "Gender               13\n",
       "Married               3\n",
       "Dependents           15\n",
       "Education             0\n",
       "Self_Employed        32\n",
       "ApplicantIncome       0\n",
       "CoapplicantIncome     0\n",
       "LoanAmount           22\n",
       "Loan_Amount_Term     14\n",
       "Credit_History       50\n",
       "Property_Area         0\n",
       "Loan_Status           0\n",
       "dtype: int64"
      ]
     },
     "execution_count": 53,
     "metadata": {},
     "output_type": "execute_result"
    }
   ],
   "source": [
    "df.isnull().sum()"
   ]
  },
  {
   "cell_type": "code",
   "execution_count": 54,
   "metadata": {},
   "outputs": [],
   "source": [
    "df['Gender'].value_counts()\n",
    "df['Gender']=df['Gender'].fillna(value='Male')"
   ]
  },
  {
   "cell_type": "code",
   "execution_count": 55,
   "metadata": {},
   "outputs": [],
   "source": [
    "df['Married'].value_counts()\n",
    "df['Married']=df['Married'].fillna(value='Yes')"
   ]
  },
  {
   "cell_type": "code",
   "execution_count": 56,
   "metadata": {},
   "outputs": [],
   "source": [
    "df['Dependents']=df[df['Dependents']=='3+'].fillna(value='5')"
   ]
  },
  {
   "cell_type": "code",
   "execution_count": 57,
   "metadata": {},
   "outputs": [],
   "source": [
    "df['Dependents'].value_counts()\n",
    "df['Dependents']=df['Dependents'].fillna(value='0')\n"
   ]
  },
  {
   "cell_type": "code",
   "execution_count": 58,
   "metadata": {},
   "outputs": [],
   "source": [
    "df['Self_Employed'].value_counts()\n",
    "df['Self_Employed']=df['Self_Employed'].fillna(value='No')"
   ]
  },
  {
   "cell_type": "code",
   "execution_count": 59,
   "metadata": {},
   "outputs": [
    {
     "name": "stderr",
     "output_type": "stream",
     "text": [
      "C:\\Users\\LENOVO\\Anaconda3\\lib\\site-packages\\statsmodels\\nonparametric\\kde.py:448: RuntimeWarning: invalid value encountered in greater\n",
      "  X = X[np.logical_and(X > clip[0], X < clip[1])] # won't work for two columns.\n",
      "C:\\Users\\LENOVO\\Anaconda3\\lib\\site-packages\\statsmodels\\nonparametric\\kde.py:448: RuntimeWarning: invalid value encountered in less\n",
      "  X = X[np.logical_and(X > clip[0], X < clip[1])] # won't work for two columns.\n",
      "C:\\Users\\LENOVO\\Anaconda3\\lib\\site-packages\\scipy\\stats\\stats.py:1713: FutureWarning: Using a non-tuple sequence for multidimensional indexing is deprecated; use `arr[tuple(seq)]` instead of `arr[seq]`. In the future this will be interpreted as an array index, `arr[np.array(seq)]`, which will result either in an error or a different result.\n",
      "  return np.add.reduce(sorted[indexer] * weights, axis=axis) / sumval\n"
     ]
    },
    {
     "data": {
      "text/plain": [
       "<matplotlib.axes._subplots.AxesSubplot at 0x1e8ed6de198>"
      ]
     },
     "execution_count": 59,
     "metadata": {},
     "output_type": "execute_result"
    },
    {
     "data": {
      "image/png": "[encoded data removed]",
      "text/plain": [
       "<Figure size 432x288 with 1 Axes>"
      ]
     },
     "metadata": {
      "needs_background": "light"
     },
     "output_type": "display_data"
    }
   ],
   "source": [
    "#plt.hist(df['LoanAmount'],)\n",
    "sns.kdeplot(df['LoanAmount'])"
   ]
  },
  {
   "cell_type": "code",
   "execution_count": 60,
   "metadata": {},
   "outputs": [],
   "source": [
    "df['LoanAmount']=df['LoanAmount'].fillna(value=df['LoanAmount'].median())"
   ]
  },
  {
   "cell_type": "code",
   "execution_count": 61,
   "metadata": {},
   "outputs": [],
   "source": [
    "df['Loan_Amount_Term'].value_counts()\n",
    "df['Loan_Amount_Term']=df['Loan_Amount_Term'].fillna(value='360.0')\n"
   ]
  },
  {
   "cell_type": "code",
   "execution_count": 62,
   "metadata": {},
   "outputs": [],
   "source": [
    "df['Credit_History'].value_counts()\n",
    "df['Credit_History']=df['Credit_History'].fillna(value='1.0')"
   ]
  },
  {
   "cell_type": "code",
   "execution_count": 63,
   "metadata": {},
   "outputs": [
    {
     "data": {
      "text/plain": [
       "Loan_ID              0\n",
       "Gender               0\n",
       "Married              0\n",
       "Dependents           0\n",
       "Education            0\n",
       "Self_Employed        0\n",
       "ApplicantIncome      0\n",
       "CoapplicantIncome    0\n",
       "LoanAmount           0\n",
       "Loan_Amount_Term     0\n",
       "Credit_History       0\n",
       "Property_Area        0\n",
       "Loan_Status          0\n",
       "dtype: int64"
      ]
     },
     "execution_count": 63,
     "metadata": {},
     "output_type": "execute_result"
    }
   ],
   "source": [
    "df.isnull().sum()"
   ]
  },
  {
   "cell_type": "code",
   "execution_count": 64,
   "metadata": {},
   "outputs": [
    {
     "name": "stdout",
     "output_type": "stream",
     "text": [
      "<class 'pandas.core.frame.DataFrame'>\n",
      "RangeIndex: 614 entries, 0 to 613\n",
      "Data columns (total 13 columns):\n",
      "Loan_ID              614 non-null object\n",
      "Gender               614 non-null object\n",
      "Married              614 non-null object\n",
      "Dependents           614 non-null object\n",
      "Education            614 non-null object\n",
      "Self_Employed        614 non-null object\n",
      "ApplicantIncome      614 non-null int64\n",
      "CoapplicantIncome    614 non-null float64\n",
      "LoanAmount           614 non-null float64\n",
      "Loan_Amount_Term     614 non-null object\n",
      "Credit_History       614 non-null object\n",
      "Property_Area        614 non-null object\n",
      "Loan_Status          614 non-null object\n",
      "dtypes: float64(2), int64(1), object(10)\n",
      "memory usage: 62.4+ KB\n"
     ]
    }
   ],
   "source": [
    "df.info()"
   ]
  },
  {
   "cell_type": "code",
   "execution_count": 65,
   "metadata": {},
   "outputs": [],
   "source": [
    "df['Gender']=pd.get_dummies(df['Gender'])\n",
    "df['Married']=pd.get_dummies(df['Married'])\n",
    "df['Education']=pd.get_dummies(df['Education'])\n",
    "df['Self_Employed']=pd.get_dummies(df['Self_Employed'])\n"
   ]
  },
  {
   "cell_type": "code",
   "execution_count": 66,
   "metadata": {},
   "outputs": [],
   "source": [
    "df['Property_Area']=pd.get_dummies(df['Property_Area'])"
   ]
  },
  {
   "cell_type": "code",
   "execution_count": 67,
   "metadata": {
    "scrolled": true
   },
   "outputs": [
    {
     "data": {
      "text/html": [
       "<div>\n",
       "<style scoped>\n",
       "    .dataframe tbody tr th:only-of-type {\n",
       "        vertical-align: middle;\n",
       "    }\n",
       "\n",
       "    .dataframe tbody tr th {\n",
       "        vertical-align: top;\n",
       "    }\n",
       "\n",
       "    .dataframe thead th {\n",
       "        text-align: right;\n",
       "    }\n",
       "</style>\n",
       "<table border=\"1\" class=\"dataframe\">\n",
       "  <thead>\n",
       "    <tr style=\"text-align: right;\">\n",
       "      <th></th>\n",
       "      <th>Loan_ID</th>\n",
       "      <th>Gender</th>\n",
       "      <th>Married</th>\n",
       "      <th>Dependents</th>\n",
       "      <th>Education</th>\n",
       "      <th>Self_Employed</th>\n",
       "      <th>ApplicantIncome</th>\n",
       "      <th>CoapplicantIncome</th>\n",
       "      <th>LoanAmount</th>\n",
       "      <th>Loan_Amount_Term</th>\n",
       "      <th>Credit_History</th>\n",
       "      <th>Property_Area</th>\n",
       "      <th>Loan_Status</th>\n",
       "    </tr>\n",
       "  </thead>\n",
       "  <tbody>\n",
       "    <tr>\n",
       "      <th>0</th>\n",
       "      <td>LP001002</td>\n",
       "      <td>0</td>\n",
       "      <td>1</td>\n",
       "      <td>0</td>\n",
       "      <td>1</td>\n",
       "      <td>1</td>\n",
       "      <td>5849</td>\n",
       "      <td>0.0</td>\n",
       "      <td>128.0</td>\n",
       "      <td>360</td>\n",
       "      <td>1</td>\n",
       "      <td>0</td>\n",
       "      <td>Y</td>\n",
       "    </tr>\n",
       "    <tr>\n",
       "      <th>1</th>\n",
       "      <td>LP001003</td>\n",
       "      <td>0</td>\n",
       "      <td>0</td>\n",
       "      <td>0</td>\n",
       "      <td>1</td>\n",
       "      <td>1</td>\n",
       "      <td>4583</td>\n",
       "      <td>1508.0</td>\n",
       "      <td>128.0</td>\n",
       "      <td>360</td>\n",
       "      <td>1</td>\n",
       "      <td>1</td>\n",
       "      <td>N</td>\n",
       "    </tr>\n",
       "    <tr>\n",
       "      <th>2</th>\n",
       "      <td>LP001005</td>\n",
       "      <td>0</td>\n",
       "      <td>0</td>\n",
       "      <td>0</td>\n",
       "      <td>1</td>\n",
       "      <td>0</td>\n",
       "      <td>3000</td>\n",
       "      <td>0.0</td>\n",
       "      <td>66.0</td>\n",
       "      <td>360</td>\n",
       "      <td>1</td>\n",
       "      <td>0</td>\n",
       "      <td>Y</td>\n",
       "    </tr>\n",
       "    <tr>\n",
       "      <th>3</th>\n",
       "      <td>LP001006</td>\n",
       "      <td>0</td>\n",
       "      <td>0</td>\n",
       "      <td>0</td>\n",
       "      <td>0</td>\n",
       "      <td>1</td>\n",
       "      <td>2583</td>\n",
       "      <td>2358.0</td>\n",
       "      <td>120.0</td>\n",
       "      <td>360</td>\n",
       "      <td>1</td>\n",
       "      <td>0</td>\n",
       "      <td>Y</td>\n",
       "    </tr>\n",
       "    <tr>\n",
       "      <th>4</th>\n",
       "      <td>LP001008</td>\n",
       "      <td>0</td>\n",
       "      <td>1</td>\n",
       "      <td>0</td>\n",
       "      <td>1</td>\n",
       "      <td>1</td>\n",
       "      <td>6000</td>\n",
       "      <td>0.0</td>\n",
       "      <td>141.0</td>\n",
       "      <td>360</td>\n",
       "      <td>1</td>\n",
       "      <td>0</td>\n",
       "      <td>Y</td>\n",
       "    </tr>\n",
       "  </tbody>\n",
       "</table>\n",
       "</div>"
      ],
      "text/plain": [
       "    Loan_ID  Gender  Married Dependents  Education  Self_Employed  \\\n",
       "0  LP001002       0        1          0          1              1   \n",
       "1  LP001003       0        0          0          1              1   \n",
       "2  LP001005       0        0          0          1              0   \n",
       "3  LP001006       0        0          0          0              1   \n",
       "4  LP001008       0        1          0          1              1   \n",
       "\n",
       "   ApplicantIncome  CoapplicantIncome  LoanAmount Loan_Amount_Term  \\\n",
       "0             5849                0.0       128.0              360   \n",
       "1             4583             1508.0       128.0              360   \n",
       "2             3000                0.0        66.0              360   \n",
       "3             2583             2358.0       120.0              360   \n",
       "4             6000                0.0       141.0              360   \n",
       "\n",
       "  Credit_History  Property_Area Loan_Status  \n",
       "0              1              0           Y  \n",
       "1              1              1           N  \n",
       "2              1              0           Y  \n",
       "3              1              0           Y  \n",
       "4              1              0           Y  "
      ]
     },
     "execution_count": 67,
     "metadata": {},
     "output_type": "execute_result"
    }
   ],
   "source": [
    "df[:5]"
   ]
  },
  {
   "cell_type": "code",
   "execution_count": 81,
   "metadata": {},
   "outputs": [
    {
     "data": {
      "text/plain": [
       "0           563\n",
       "LP002740      1\n",
       "LP001864      1\n",
       "LP001854      1\n",
       "LP002500      1\n",
       "LP002536      1\n",
       "LP002720      1\n",
       "LP002949      1\n",
       "LP002795      1\n",
       "LP001720      1\n",
       "LP002255      1\n",
       "LP001250      1\n",
       "LP001882      1\n",
       "LP001585      1\n",
       "LP001014      1\n",
       "LP002065      1\n",
       "LP001711      1\n",
       "LP002692      1\n",
       "LP002418      1\n",
       "LP002317      1\n",
       "LP002126      1\n",
       "LP001610      1\n",
       "LP001488      1\n",
       "LP001264      1\n",
       "LP002113      1\n",
       "LP001384      1\n",
       "LP001448      1\n",
       "LP002519      1\n",
       "LP002863      1\n",
       "LP001100      1\n",
       "LP002979      1\n",
       "LP002115      1\n",
       "LP002933      1\n",
       "LP001586      1\n",
       "LP001846      1\n",
       "LP002160      1\n",
       "LP002953      1\n",
       "LP001682      1\n",
       "LP001536      1\n",
       "LP001949      1\n",
       "LP002141      1\n",
       "LP002219      1\n",
       "LP001263      1\n",
       "LP001238      1\n",
       "LP002484      1\n",
       "LP001206      1\n",
       "LP001715      1\n",
       "LP002053      1\n",
       "LP001253      1\n",
       "LP002837      1\n",
       "LP002262      1\n",
       "LP002659      1\n",
       "Name: Dependents, dtype: int64"
      ]
     },
     "execution_count": 81,
     "metadata": {},
     "output_type": "execute_result"
    }
   ],
   "source": [
    "df['Dependents'].value_counts()"
   ]
  },
  {
   "cell_type": "code",
   "execution_count": 68,
   "metadata": {},
   "outputs": [],
   "source": [
    "df['Credit_History']=df['Credit_History'].astype('float')\n",
    "#df['']=df['Credit_History'].astype('float')\n",
    "df['Loan_Amount_Term']=df['Loan_Amount_Term'].astype('float')"
   ]
  },
  {
   "cell_type": "code",
   "execution_count": 69,
   "metadata": {},
   "outputs": [],
   "source": [
    "#df['Loan_Status']=pd.get_dummies(df['Loan_Status'])"
   ]
  },
  {
   "cell_type": "code",
   "execution_count": 104,
   "metadata": {},
   "outputs": [],
   "source": [
    "X=np.asarray(df[['ApplicantIncome','CoapplicantIncome','LoanAmount','Credit_History']])"
   ]
  },
  {
   "cell_type": "code",
   "execution_count": 105,
   "metadata": {},
   "outputs": [],
   "source": [
    "y=np.asarray(df['Loan_Status'])"
   ]
  },
  {
   "cell_type": "code",
   "execution_count": 106,
   "metadata": {},
   "outputs": [
    {
     "data": {
      "text/plain": [
       "(614, 4)"
      ]
     },
     "execution_count": 106,
     "metadata": {},
     "output_type": "execute_result"
    }
   ],
   "source": [
    "X.shape"
   ]
  },
  {
   "cell_type": "code",
   "execution_count": 107,
   "metadata": {},
   "outputs": [],
   "source": [
    "#df['Loan_Status']"
   ]
  },
  {
   "cell_type": "code",
   "execution_count": 108,
   "metadata": {},
   "outputs": [
    {
     "data": {
      "text/html": [
       "<div>\n",
       "<style scoped>\n",
       "    .dataframe tbody tr th:only-of-type {\n",
       "        vertical-align: middle;\n",
       "    }\n",
       "\n",
       "    .dataframe tbody tr th {\n",
       "        vertical-align: top;\n",
       "    }\n",
       "\n",
       "    .dataframe thead th {\n",
       "        text-align: right;\n",
       "    }\n",
       "</style>\n",
       "<table border=\"1\" class=\"dataframe\">\n",
       "  <thead>\n",
       "    <tr style=\"text-align: right;\">\n",
       "      <th></th>\n",
       "      <th>Loan_ID</th>\n",
       "      <th>Gender</th>\n",
       "      <th>Married</th>\n",
       "      <th>Dependents</th>\n",
       "      <th>Education</th>\n",
       "      <th>Self_Employed</th>\n",
       "      <th>ApplicantIncome</th>\n",
       "      <th>CoapplicantIncome</th>\n",
       "      <th>LoanAmount</th>\n",
       "      <th>Loan_Amount_Term</th>\n",
       "      <th>Credit_History</th>\n",
       "      <th>Property_Area</th>\n",
       "      <th>Loan_Status</th>\n",
       "    </tr>\n",
       "  </thead>\n",
       "  <tbody>\n",
       "    <tr>\n",
       "      <th>0</th>\n",
       "      <td>LP001002</td>\n",
       "      <td>0</td>\n",
       "      <td>1</td>\n",
       "      <td>0</td>\n",
       "      <td>1</td>\n",
       "      <td>1</td>\n",
       "      <td>5849</td>\n",
       "      <td>0.0</td>\n",
       "      <td>128.0</td>\n",
       "      <td>360.0</td>\n",
       "      <td>1.0</td>\n",
       "      <td>0</td>\n",
       "      <td>Y</td>\n",
       "    </tr>\n",
       "    <tr>\n",
       "      <th>1</th>\n",
       "      <td>LP001003</td>\n",
       "      <td>0</td>\n",
       "      <td>0</td>\n",
       "      <td>0</td>\n",
       "      <td>1</td>\n",
       "      <td>1</td>\n",
       "      <td>4583</td>\n",
       "      <td>1508.0</td>\n",
       "      <td>128.0</td>\n",
       "      <td>360.0</td>\n",
       "      <td>1.0</td>\n",
       "      <td>1</td>\n",
       "      <td>N</td>\n",
       "    </tr>\n",
       "    <tr>\n",
       "      <th>2</th>\n",
       "      <td>LP001005</td>\n",
       "      <td>0</td>\n",
       "      <td>0</td>\n",
       "      <td>0</td>\n",
       "      <td>1</td>\n",
       "      <td>0</td>\n",
       "      <td>3000</td>\n",
       "      <td>0.0</td>\n",
       "      <td>66.0</td>\n",
       "      <td>360.0</td>\n",
       "      <td>1.0</td>\n",
       "      <td>0</td>\n",
       "      <td>Y</td>\n",
       "    </tr>\n",
       "    <tr>\n",
       "      <th>3</th>\n",
       "      <td>LP001006</td>\n",
       "      <td>0</td>\n",
       "      <td>0</td>\n",
       "      <td>0</td>\n",
       "      <td>0</td>\n",
       "      <td>1</td>\n",
       "      <td>2583</td>\n",
       "      <td>2358.0</td>\n",
       "      <td>120.0</td>\n",
       "      <td>360.0</td>\n",
       "      <td>1.0</td>\n",
       "      <td>0</td>\n",
       "      <td>Y</td>\n",
       "    </tr>\n",
       "    <tr>\n",
       "      <th>4</th>\n",
       "      <td>LP001008</td>\n",
       "      <td>0</td>\n",
       "      <td>1</td>\n",
       "      <td>0</td>\n",
       "      <td>1</td>\n",
       "      <td>1</td>\n",
       "      <td>6000</td>\n",
       "      <td>0.0</td>\n",
       "      <td>141.0</td>\n",
       "      <td>360.0</td>\n",
       "      <td>1.0</td>\n",
       "      <td>0</td>\n",
       "      <td>Y</td>\n",
       "    </tr>\n",
       "  </tbody>\n",
       "</table>\n",
       "</div>"
      ],
      "text/plain": [
       "    Loan_ID  Gender  Married Dependents  Education  Self_Employed  \\\n",
       "0  LP001002       0        1          0          1              1   \n",
       "1  LP001003       0        0          0          1              1   \n",
       "2  LP001005       0        0          0          1              0   \n",
       "3  LP001006       0        0          0          0              1   \n",
       "4  LP001008       0        1          0          1              1   \n",
       "\n",
       "   ApplicantIncome  CoapplicantIncome  LoanAmount  Loan_Amount_Term  \\\n",
       "0             5849                0.0       128.0             360.0   \n",
       "1             4583             1508.0       128.0             360.0   \n",
       "2             3000                0.0        66.0             360.0   \n",
       "3             2583             2358.0       120.0             360.0   \n",
       "4             6000                0.0       141.0             360.0   \n",
       "\n",
       "   Credit_History  Property_Area Loan_Status  \n",
       "0             1.0              0           Y  \n",
       "1             1.0              1           N  \n",
       "2             1.0              0           Y  \n",
       "3             1.0              0           Y  \n",
       "4             1.0              0           Y  "
      ]
     },
     "execution_count": 108,
     "metadata": {},
     "output_type": "execute_result"
    }
   ],
   "source": [
    "df[:5]"
   ]
  },
  {
   "cell_type": "code",
   "execution_count": 109,
   "metadata": {},
   "outputs": [],
   "source": [
    "from sklearn.model_selection import train_test_split"
   ]
  },
  {
   "cell_type": "code",
   "execution_count": 110,
   "metadata": {},
   "outputs": [],
   "source": [
    "X_trainset,X_testset,y_trainset,y_testset=train_test_split(X,y,test_size=0.3,random_state=101)"
   ]
  },
  {
   "cell_type": "code",
   "execution_count": 111,
   "metadata": {},
   "outputs": [
    {
     "data": {
      "text/plain": [
       "(429, 4)"
      ]
     },
     "execution_count": 111,
     "metadata": {},
     "output_type": "execute_result"
    }
   ],
   "source": [
    "X_trainset.shape"
   ]
  },
  {
   "cell_type": "code",
   "execution_count": 112,
   "metadata": {},
   "outputs": [
    {
     "data": {
      "text/plain": [
       "(185, 4)"
      ]
     },
     "execution_count": 112,
     "metadata": {},
     "output_type": "execute_result"
    }
   ],
   "source": [
    "X_testset.shape"
   ]
  },
  {
   "cell_type": "code",
   "execution_count": 113,
   "metadata": {},
   "outputs": [],
   "source": [
    "#X_trainset=X_trainset['Credit_History'].astype('float')\n",
    "#X_trainset=X_trainset['Loan_Amount_Term'].astype('float')\n",
    "\n"
   ]
  },
  {
   "cell_type": "code",
   "execution_count": 114,
   "metadata": {},
   "outputs": [
    {
     "data": {
      "text/plain": [
       "array([[2.600e+03, 0.000e+00, 1.600e+02, 1.000e+00],\n",
       "       [1.830e+03, 0.000e+00, 1.280e+02, 0.000e+00],\n",
       "       [4.124e+03, 0.000e+00, 1.150e+02, 1.000e+00],\n",
       "       ...,\n",
       "       [3.159e+03, 4.610e+02, 1.080e+02, 1.000e+00],\n",
       "       [2.500e+03, 4.600e+03, 1.760e+02, 1.000e+00],\n",
       "       [7.948e+03, 7.166e+03, 4.800e+02, 1.000e+00]])"
      ]
     },
     "execution_count": 114,
     "metadata": {},
     "output_type": "execute_result"
    }
   ],
   "source": [
    "X_trainset"
   ]
  },
  {
   "cell_type": "code",
   "execution_count": 115,
   "metadata": {},
   "outputs": [
    {
     "data": {
      "text/plain": [
       "LogisticRegression(C=0.01, class_weight=None, dual=False, fit_intercept=True,\n",
       "          intercept_scaling=1, max_iter=100, multi_class='warn',\n",
       "          n_jobs=None, penalty='l2', random_state=None, solver='liblinear',\n",
       "          tol=0.0001, verbose=0, warm_start=False)"
      ]
     },
     "execution_count": 115,
     "metadata": {},
     "output_type": "execute_result"
    }
   ],
   "source": [
    "from sklearn.linear_model import LogisticRegression\n",
    "from sklearn.metrics import confusion_matrix\n",
    "LR = LogisticRegression(C=0.01, solver='liblinear').fit(X_trainset,y_trainset)\n",
    "LR"
   ]
  },
  {
   "cell_type": "code",
   "execution_count": 116,
   "metadata": {},
   "outputs": [
    {
     "data": {
      "text/plain": [
       "array(['Y', 'Y', 'Y', 'Y', 'Y', 'Y', 'Y', 'Y', 'Y', 'Y', 'Y', 'Y', 'Y',\n",
       "       'Y', 'Y', 'Y', 'Y', 'Y', 'Y', 'Y', 'Y', 'Y', 'Y', 'Y', 'Y', 'Y',\n",
       "       'Y', 'Y', 'Y', 'Y', 'Y', 'Y', 'Y', 'Y', 'Y', 'Y', 'Y', 'Y', 'Y',\n",
       "       'Y', 'Y', 'Y', 'Y', 'Y', 'Y', 'Y', 'Y', 'Y', 'Y', 'Y', 'Y', 'Y',\n",
       "       'Y', 'Y', 'Y', 'Y', 'Y', 'Y', 'Y', 'Y', 'Y', 'Y', 'Y', 'Y', 'Y',\n",
       "       'Y', 'Y', 'Y', 'Y', 'Y', 'Y', 'Y', 'Y', 'Y', 'Y', 'Y', 'Y', 'Y',\n",
       "       'Y', 'Y', 'Y', 'Y', 'Y', 'Y', 'Y', 'Y', 'Y', 'Y', 'Y', 'Y', 'Y',\n",
       "       'Y', 'Y', 'Y', 'Y', 'Y', 'Y', 'Y', 'Y', 'Y', 'Y', 'Y', 'Y', 'Y',\n",
       "       'Y', 'Y', 'Y', 'Y', 'Y', 'Y', 'Y', 'Y', 'Y', 'Y', 'Y', 'Y', 'Y',\n",
       "       'Y', 'Y', 'Y', 'Y', 'Y', 'Y', 'Y', 'Y', 'Y', 'Y', 'Y', 'Y', 'Y',\n",
       "       'Y', 'Y', 'Y', 'Y', 'Y', 'Y', 'Y', 'Y', 'Y', 'Y', 'Y', 'Y', 'Y',\n",
       "       'Y', 'Y', 'Y', 'Y', 'Y', 'Y', 'Y', 'Y', 'Y', 'Y', 'Y', 'Y', 'Y',\n",
       "       'Y', 'Y', 'Y', 'Y', 'Y', 'Y', 'Y', 'Y', 'Y', 'Y', 'Y', 'Y', 'Y',\n",
       "       'Y', 'Y', 'Y', 'Y', 'Y', 'Y', 'Y', 'Y', 'Y', 'Y', 'Y', 'Y', 'Y',\n",
       "       'Y', 'Y', 'Y'], dtype=object)"
      ]
     },
     "execution_count": 116,
     "metadata": {},
     "output_type": "execute_result"
    }
   ],
   "source": [
    "yhat=LR.predict(X_testset)\n",
    "yhat"
   ]
  },
  {
   "cell_type": "code",
   "execution_count": 117,
   "metadata": {},
   "outputs": [
    {
     "data": {
      "text/plain": [
       "array(['N', 'Y', 'Y', 'N', 'N', 'N', 'Y', 'Y', 'N', 'Y', 'N', 'Y', 'N',\n",
       "       'Y', 'Y', 'Y', 'N', 'Y', 'Y', 'N', 'Y', 'Y', 'N', 'N', 'Y', 'N',\n",
       "       'Y', 'Y', 'Y', 'Y', 'Y', 'Y', 'Y', 'N', 'Y', 'Y', 'N', 'Y', 'N',\n",
       "       'Y', 'Y', 'Y', 'Y', 'N', 'Y', 'Y', 'Y', 'Y', 'Y', 'Y', 'Y', 'Y',\n",
       "       'N', 'Y', 'Y', 'N', 'N', 'Y', 'N', 'Y', 'Y', 'N', 'N', 'Y', 'Y',\n",
       "       'N', 'N', 'N', 'Y', 'N', 'Y', 'N', 'Y', 'N', 'N', 'Y', 'Y', 'Y',\n",
       "       'N', 'Y', 'N', 'Y', 'Y', 'N', 'Y', 'Y', 'Y', 'Y', 'N', 'N', 'N',\n",
       "       'Y', 'Y', 'Y', 'N', 'N', 'Y', 'Y', 'Y', 'Y', 'Y', 'N', 'Y', 'Y',\n",
       "       'N', 'Y', 'Y', 'N', 'Y', 'Y', 'N', 'N', 'Y', 'N', 'Y', 'Y', 'Y',\n",
       "       'N', 'Y', 'Y', 'Y', 'Y', 'N', 'Y', 'N', 'Y', 'Y', 'N', 'N', 'Y',\n",
       "       'N', 'Y', 'N', 'Y', 'N', 'Y', 'Y', 'Y', 'Y', 'Y', 'N', 'N', 'Y',\n",
       "       'Y', 'N', 'Y', 'N', 'Y', 'Y', 'Y', 'Y', 'Y', 'Y', 'Y', 'Y', 'Y',\n",
       "       'Y', 'Y', 'N', 'Y', 'Y', 'N', 'Y', 'Y', 'Y', 'Y', 'N', 'Y', 'Y',\n",
       "       'N', 'Y', 'N', 'Y', 'Y', 'N', 'Y', 'Y', 'N', 'N', 'Y', 'Y', 'Y',\n",
       "       'N', 'Y', 'Y'], dtype=object)"
      ]
     },
     "execution_count": 117,
     "metadata": {},
     "output_type": "execute_result"
    }
   ],
   "source": [
    "y_testset"
   ]
  },
  {
   "cell_type": "code",
   "execution_count": 123,
   "metadata": {},
   "outputs": [
    {
     "data": {
      "text/plain": [
       "0.654054054054054"
      ]
     },
     "execution_count": 123,
     "metadata": {},
     "output_type": "execute_result"
    }
   ],
   "source": [
    "from sklearn.metrics import jaccard_similarity_score\n",
    "jaccard_similarity_score(y_testset, yhat)"
   ]
  },
  {
   "cell_type": "code",
   "execution_count": 124,
   "metadata": {},
   "outputs": [
    {
     "data": {
      "text/plain": [
       "array([[0.31341804, 0.68658196],\n",
       "       [0.32696727, 0.67303273],\n",
       "       [0.32770015, 0.67229985],\n",
       "       [0.37352305, 0.62647695],\n",
       "       [0.26446491, 0.73553509],\n",
       "       [0.42973136, 0.57026864],\n",
       "       [0.25573186, 0.74426814],\n",
       "       [0.34061157, 0.65938843],\n",
       "       [0.32558107, 0.67441893],\n",
       "       [0.27443388, 0.72556612],\n",
       "       [0.29835776, 0.70164224],\n",
       "       [0.36152812, 0.63847188],\n",
       "       [0.40173589, 0.59826411],\n",
       "       [0.30807412, 0.69192588],\n",
       "       [0.26805015, 0.73194985],\n",
       "       [0.31003374, 0.68996626],\n",
       "       [0.30124604, 0.69875396],\n",
       "       [0.32445007, 0.67554993],\n",
       "       [0.27809132, 0.72190868],\n",
       "       [0.26383943, 0.73616057],\n",
       "       [0.23989896, 0.76010104],\n",
       "       [0.30386405, 0.69613595],\n",
       "       [0.40513782, 0.59486218],\n",
       "       [0.3328752 , 0.6671248 ],\n",
       "       [0.3286346 , 0.6713654 ],\n",
       "       [0.32441449, 0.67558551],\n",
       "       [0.33088465, 0.66911535],\n",
       "       [0.32541291, 0.67458709],\n",
       "       [0.30576827, 0.69423173],\n",
       "       [0.32776768, 0.67223232],\n",
       "       [0.34374144, 0.65625856],\n",
       "       [0.24706417, 0.75293583],\n",
       "       [0.32379848, 0.67620152],\n",
       "       [0.42847883, 0.57152117],\n",
       "       [0.30990254, 0.69009746],\n",
       "       [0.3281628 , 0.6718372 ],\n",
       "       [0.27839663, 0.72160337],\n",
       "       [0.27199141, 0.72800859],\n",
       "       [0.31958383, 0.68041617],\n",
       "       [0.12827513, 0.87172487],\n",
       "       [0.32654903, 0.67345097],\n",
       "       [0.25429616, 0.74570384],\n",
       "       [0.32351282, 0.67648718],\n",
       "       [0.31553279, 0.68446721],\n",
       "       [0.35072749, 0.64927251],\n",
       "       [0.33031749, 0.66968251],\n",
       "       [0.31137461, 0.68862539],\n",
       "       [0.28863224, 0.71136776],\n",
       "       [0.19636197, 0.80363803],\n",
       "       [0.33196395, 0.66803605],\n",
       "       [0.37691626, 0.62308374],\n",
       "       [0.30225381, 0.69774619],\n",
       "       [0.31458673, 0.68541327],\n",
       "       [0.35459733, 0.64540267],\n",
       "       [0.32646334, 0.67353666],\n",
       "       [0.39661521, 0.60338479],\n",
       "       [0.43996627, 0.56003373],\n",
       "       [0.30266141, 0.69733859],\n",
       "       [0.29965789, 0.70034211],\n",
       "       [0.30082252, 0.69917748],\n",
       "       [0.29832423, 0.70167577],\n",
       "       [0.39772542, 0.60227458],\n",
       "       [0.42779608, 0.57220392],\n",
       "       [0.26828393, 0.73171607],\n",
       "       [0.3146257 , 0.6853743 ],\n",
       "       [0.3577341 , 0.6422659 ],\n",
       "       [0.29479831, 0.70520169],\n",
       "       [0.40718684, 0.59281316],\n",
       "       [0.32178915, 0.67821085],\n",
       "       [0.33041604, 0.66958396],\n",
       "       [0.30676905, 0.69323095],\n",
       "       [0.43259545, 0.56740455],\n",
       "       [0.32995374, 0.67004626],\n",
       "       [0.30030515, 0.69969485],\n",
       "       [0.43153611, 0.56846389],\n",
       "       [0.33318718, 0.66681282],\n",
       "       [0.30373375, 0.69626625],\n",
       "       [0.32553394, 0.67446606],\n",
       "       [0.30200457, 0.69799543],\n",
       "       [0.29297293, 0.70702707],\n",
       "       [0.39958738, 0.60041262],\n",
       "       [0.3556731 , 0.6443269 ],\n",
       "       [0.33294828, 0.66705172],\n",
       "       [0.42989117, 0.57010883],\n",
       "       [0.40213543, 0.59786457],\n",
       "       [0.30730552, 0.69269448],\n",
       "       [0.32910156, 0.67089844],\n",
       "       [0.28495571, 0.71504429],\n",
       "       [0.25691073, 0.74308927],\n",
       "       [0.41458509, 0.58541491],\n",
       "       [0.31679276, 0.68320724],\n",
       "       [0.29522204, 0.70477796],\n",
       "       [0.29899696, 0.70100304],\n",
       "       [0.30104696, 0.69895304],\n",
       "       [0.17549504, 0.82450496],\n",
       "       [0.31261721, 0.68738279],\n",
       "       [0.33873773, 0.66126227],\n",
       "       [0.32286956, 0.67713044],\n",
       "       [0.27941446, 0.72058554],\n",
       "       [0.30596553, 0.69403447],\n",
       "       [0.30792268, 0.69207732],\n",
       "       [0.3080181 , 0.6919819 ],\n",
       "       [0.31973755, 0.68026245],\n",
       "       [0.32505236, 0.67494764],\n",
       "       [0.29392996, 0.70607004],\n",
       "       [0.34789135, 0.65210865],\n",
       "       [0.30327372, 0.69672628],\n",
       "       [0.42805967, 0.57194033],\n",
       "       [0.29745251, 0.70254749],\n",
       "       [0.31947276, 0.68052724],\n",
       "       [0.39623485, 0.60376515],\n",
       "       [0.3495418 , 0.6504582 ],\n",
       "       [0.31930478, 0.68069522],\n",
       "       [0.39210299, 0.60789701],\n",
       "       [0.33469168, 0.66530832],\n",
       "       [0.31350425, 0.68649575],\n",
       "       [0.30222607, 0.69777393],\n",
       "       [0.42358674, 0.57641326],\n",
       "       [0.31157164, 0.68842836],\n",
       "       [0.35230395, 0.64769605],\n",
       "       [0.33030452, 0.66969548],\n",
       "       [0.30734294, 0.69265706],\n",
       "       [0.41199073, 0.58800927],\n",
       "       [0.29069556, 0.70930444],\n",
       "       [0.41889489, 0.58110511],\n",
       "       [0.32062076, 0.67937924],\n",
       "       [0.18683433, 0.81316567],\n",
       "       [0.32659945, 0.67340055],\n",
       "       [0.41613501, 0.58386499],\n",
       "       [0.23609846, 0.76390154],\n",
       "       [0.29216751, 0.70783249],\n",
       "       [0.3357952 , 0.6642048 ],\n",
       "       [0.3021292 , 0.6978708 ],\n",
       "       [0.33396119, 0.66603881],\n",
       "       [0.3108957 , 0.6891043 ],\n",
       "       [0.33441417, 0.66558583],\n",
       "       [0.26819051, 0.73180949],\n",
       "       [0.2914185 , 0.7085815 ],\n",
       "       [0.29448188, 0.70551812],\n",
       "       [0.34234862, 0.65765138],\n",
       "       [0.31864766, 0.68135234],\n",
       "       [0.43352912, 0.56647088],\n",
       "       [0.28894175, 0.71105825],\n",
       "       [0.35735191, 0.64264809],\n",
       "       [0.33950473, 0.66049527],\n",
       "       [0.34386085, 0.65613915],\n",
       "       [0.30195446, 0.69804554],\n",
       "       [0.30899831, 0.69100169],\n",
       "       [0.31542111, 0.68457889],\n",
       "       [0.34183016, 0.65816984],\n",
       "       [0.31954618, 0.68045382],\n",
       "       [0.32077549, 0.67922451],\n",
       "       [0.28268488, 0.71731512],\n",
       "       [0.33486821, 0.66513179],\n",
       "       [0.3471643 , 0.6528357 ],\n",
       "       [0.32539063, 0.67460937],\n",
       "       [0.37988091, 0.62011909],\n",
       "       [0.32506987, 0.67493013],\n",
       "       [0.32863889, 0.67136111],\n",
       "       [0.28890908, 0.71109092],\n",
       "       [0.33714682, 0.66285318],\n",
       "       [0.24163617, 0.75836383],\n",
       "       [0.29486072, 0.70513928],\n",
       "       [0.32200672, 0.67799328],\n",
       "       [0.34234524, 0.65765476],\n",
       "       [0.3072978 , 0.6927022 ],\n",
       "       [0.35012672, 0.64987328],\n",
       "       [0.32147676, 0.67852324],\n",
       "       [0.30432869, 0.69567131],\n",
       "       [0.30101687, 0.69898313],\n",
       "       [0.30592336, 0.69407664],\n",
       "       [0.42885798, 0.57114202],\n",
       "       [0.34498674, 0.65501326],\n",
       "       [0.30441444, 0.69558556],\n",
       "       [0.29052591, 0.70947409],\n",
       "       [0.31508191, 0.68491809],\n",
       "       [0.29962083, 0.70037917],\n",
       "       [0.42290716, 0.57709284],\n",
       "       [0.28800655, 0.71199345],\n",
       "       [0.3312802 , 0.6687198 ],\n",
       "       [0.31146631, 0.68853369],\n",
       "       [0.30042674, 0.69957326],\n",
       "       [0.33566198, 0.66433802],\n",
       "       [0.31031156, 0.68968844],\n",
       "       [0.33523065, 0.66476935]])"
      ]
     },
     "execution_count": 124,
     "metadata": {},
     "output_type": "execute_result"
    }
   ],
   "source": [
    "yhat_prob = LR.predict_proba(X_testset)\n",
    "yhat_prob"
   ]
  },
  {
   "cell_type": "code",
   "execution_count": 125,
   "metadata": {},
   "outputs": [
    {
     "data": {
      "text/plain": [
       "0.6159393135808271"
      ]
     },
     "execution_count": 125,
     "metadata": {},
     "output_type": "execute_result"
    }
   ],
   "source": [
    "from sklearn.metrics import log_loss\n",
    "log_loss(y_testset, yhat_prob)"
   ]
  },
  {
   "cell_type": "code",
   "execution_count": 126,
   "metadata": {},
   "outputs": [
    {
     "data": {
      "text/plain": [
       "array([[1.50000000e+02, 1.80000000e+03, 1.35000000e+02, 1.00000000e+00],\n",
       "       [2.70800000e+03, 1.16700000e+03, 9.70000000e+01, 1.00000000e+00],\n",
       "       [3.85900000e+03, 3.30000000e+03, 1.42000000e+02, 1.00000000e+00],\n",
       "       [1.04160000e+04, 0.00000000e+00, 1.87000000e+02, 0.00000000e+00],\n",
       "       [8.75000000e+03, 4.16700000e+03, 3.08000000e+02, 1.00000000e+00],\n",
       "       [1.05130000e+04, 3.85000000e+03, 1.60000000e+02, 0.00000000e+00],\n",
       "       [7.78700000e+03, 0.00000000e+00, 2.40000000e+02, 1.00000000e+00],\n",
       "       [2.05800000e+03, 2.13400000e+03, 8.80000000e+01, 1.00000000e+00],\n",
       "       [2.43500000e+03, 0.00000000e+00, 7.50000000e+01, 1.00000000e+00],\n",
       "       [1.14170000e+04, 1.12600000e+03, 2.25000000e+02, 1.00000000e+00],\n",
       "       [3.41800000e+03, 0.00000000e+00, 1.35000000e+02, 1.00000000e+00],\n",
       "       [1.53800000e+03, 1.42500000e+03, 3.00000000e+01, 1.00000000e+00],\n",
       "       [5.12400000e+03, 0.00000000e+00, 1.24000000e+02, 0.00000000e+00],\n",
       "       [4.18800000e+03, 0.00000000e+00, 1.15000000e+02, 1.00000000e+00],\n",
       "       [6.06500000e+03, 2.00400000e+03, 2.50000000e+02, 1.00000000e+00],\n",
       "       [3.69100000e+03, 0.00000000e+00, 1.10000000e+02, 1.00000000e+00],\n",
       "       [6.21600000e+03, 0.00000000e+00, 1.33000000e+02, 1.00000000e+00],\n",
       "       [3.50000000e+03, 1.66700000e+03, 1.14000000e+02, 1.00000000e+00],\n",
       "       [7.58300000e+03, 0.00000000e+00, 1.87000000e+02, 1.00000000e+00],\n",
       "       [6.00000000e+03, 2.25000000e+03, 2.65000000e+02, 1.00000000e+00],\n",
       "       [8.33300000e+03, 0.00000000e+00, 2.80000000e+02, 1.00000000e+00],\n",
       "       [4.10000000e+03, 0.00000000e+00, 1.24000000e+02, 1.00000000e+00],\n",
       "       [4.16600000e+03, 0.00000000e+00, 1.16000000e+02, 0.00000000e+00],\n",
       "       [3.86700000e+03, 0.00000000e+00, 6.20000000e+01, 1.00000000e+00],\n",
       "       [3.33300000e+03, 0.00000000e+00, 7.00000000e+01, 1.00000000e+00],\n",
       "       [4.72300000e+03, 0.00000000e+00, 8.10000000e+01, 1.00000000e+00],\n",
       "       [5.70800000e+03, 5.62500000e+03, 1.87000000e+02, 1.00000000e+00],\n",
       "       [2.23900000e+03, 2.52400000e+03, 1.28000000e+02, 1.00000000e+00],\n",
       "       [4.19100000e+03, 0.00000000e+00, 1.20000000e+02, 1.00000000e+00],\n",
       "       [2.16500000e+03, 0.00000000e+00, 7.00000000e+01, 1.00000000e+00],\n",
       "       [4.10600000e+03, 0.00000000e+00, 4.00000000e+01, 1.00000000e+00],\n",
       "       [1.66660000e+04, 0.00000000e+00, 2.75000000e+02, 1.00000000e+00],\n",
       "       [2.07100000e+03, 7.54000000e+02, 9.40000000e+01, 1.00000000e+00],\n",
       "       [3.40000000e+03, 2.50000000e+03, 1.23000000e+02, 0.00000000e+00],\n",
       "       [2.49900000e+03, 2.45800000e+03, 1.60000000e+02, 1.00000000e+00],\n",
       "       [2.40000000e+03, 2.16700000e+03, 1.15000000e+02, 1.00000000e+00],\n",
       "       [1.00000000e+04, 1.66600000e+03, 2.25000000e+02, 1.00000000e+00],\n",
       "       [6.87500000e+03, 0.00000000e+00, 2.00000000e+02, 1.00000000e+00],\n",
       "       [3.71700000e+03, 2.92500000e+03, 1.51000000e+02, 1.00000000e+00],\n",
       "       [2.01660000e+04, 0.00000000e+00, 6.50000000e+02, 1.00000000e+00],\n",
       "       [3.74800000e+03, 1.66800000e+03, 1.10000000e+02, 1.00000000e+00],\n",
       "       [6.08300000e+03, 4.25000000e+03, 3.30000000e+02, 1.00000000e+00],\n",
       "       [3.50000000e+03, 0.00000000e+00, 8.10000000e+01, 1.00000000e+00],\n",
       "       [4.20000000e+03, 1.43000000e+03, 1.29000000e+02, 1.00000000e+00],\n",
       "       [1.32620000e+04, 0.00000000e+00, 4.00000000e+01, 1.00000000e+00],\n",
       "       [5.67700000e+03, 1.42400000e+03, 1.00000000e+02, 1.00000000e+00],\n",
       "       [3.61700000e+03, 0.00000000e+00, 1.07000000e+02, 1.00000000e+00],\n",
       "       [5.00000000e+03, 3.66700000e+03, 2.36000000e+02, 1.00000000e+00],\n",
       "       [1.28760000e+04, 0.00000000e+00, 4.05000000e+02, 1.00000000e+00],\n",
       "       [4.28800000e+03, 3.26300000e+03, 1.33000000e+02, 1.00000000e+00],\n",
       "       [5.50300000e+03, 4.49000000e+03, 7.00000000e+01, 1.00000000e+00],\n",
       "       [5.70300000e+03, 0.00000000e+00, 1.30000000e+02, 1.00000000e+00],\n",
       "       [2.51000000e+03, 1.98300000e+03, 1.40000000e+02, 1.00000000e+00],\n",
       "       [8.75000000e+03, 4.99600000e+03, 1.30000000e+02, 1.00000000e+00],\n",
       "       [3.49700000e+03, 1.96400000e+03, 1.16000000e+02, 1.00000000e+00],\n",
       "       [4.58300000e+03, 0.00000000e+00, 1.33000000e+02, 0.00000000e+00],\n",
       "       [2.64500000e+03, 3.44000000e+03, 1.20000000e+02, 0.00000000e+00],\n",
       "       [8.08000000e+03, 2.25000000e+03, 1.80000000e+02, 1.00000000e+00],\n",
       "       [4.61600000e+03, 0.00000000e+00, 1.34000000e+02, 1.00000000e+00],\n",
       "       [2.39500000e+03, 0.00000000e+00, 1.28000000e+02, 1.00000000e+00],\n",
       "       [4.00600000e+03, 1.52600000e+03, 1.68000000e+02, 1.00000000e+00],\n",
       "       [2.13000000e+03, 6.66600000e+03, 7.00000000e+01, 1.00000000e+00],\n",
       "       [3.36500000e+03, 1.91700000e+03, 1.12000000e+02, 0.00000000e+00],\n",
       "       [5.94100000e+03, 4.23200000e+03, 2.96000000e+02, 1.00000000e+00],\n",
       "       [3.59600000e+03, 0.00000000e+00, 1.00000000e+02, 1.00000000e+00],\n",
       "       [2.37800000e+03, 0.00000000e+00, 9.00000000e+00, 1.00000000e+00],\n",
       "       [4.68300000e+03, 1.91500000e+03, 1.85000000e+02, 1.00000000e+00],\n",
       "       [6.04500000e+03, 0.00000000e+00, 1.15000000e+02, 0.00000000e+00],\n",
       "       [2.55000000e+03, 2.04200000e+03, 1.26000000e+02, 1.00000000e+00],\n",
       "       [8.66600000e+03, 4.98300000e+03, 3.76000000e+02, 0.00000000e+00],\n",
       "       [4.30100000e+03, 0.00000000e+00, 1.18000000e+02, 1.00000000e+00],\n",
       "       [3.01000000e+03, 3.13600000e+03, 1.28000000e+02, 0.00000000e+00],\n",
       "       [3.23200000e+03, 1.95000000e+03, 1.08000000e+02, 1.00000000e+00],\n",
       "       [4.88700000e+03, 0.00000000e+00, 1.33000000e+02, 1.00000000e+00],\n",
       "       [2.23700000e+03, 0.00000000e+00, 6.30000000e+01, 0.00000000e+00],\n",
       "       [2.99500000e+03, 0.00000000e+00, 6.00000000e+01, 1.00000000e+00],\n",
       "       [3.91700000e+03, 0.00000000e+00, 1.24000000e+02, 1.00000000e+00],\n",
       "       [3.39900000e+03, 1.64000000e+03, 1.11000000e+02, 1.00000000e+00],\n",
       "       [3.41800000e+03, 0.00000000e+00, 1.27000000e+02, 1.00000000e+00],\n",
       "       [5.26600000e+03, 1.77400000e+03, 1.87000000e+02, 1.00000000e+00],\n",
       "       [4.40000000e+03, 0.00000000e+00, 1.27000000e+02, 0.00000000e+00],\n",
       "       [2.38300000e+03, 2.13800000e+03, 5.80000000e+01, 1.00000000e+00],\n",
       "       [6.74000000e+02, 5.29600000e+03, 1.68000000e+02, 1.00000000e+00],\n",
       "       [2.17800000e+03, 0.00000000e+00, 6.60000000e+01, 0.00000000e+00],\n",
       "       [4.33300000e+03, 1.81100000e+03, 1.60000000e+02, 0.00000000e+00],\n",
       "       [5.05000000e+03, 0.00000000e+00, 1.18000000e+02, 1.00000000e+00],\n",
       "       [2.25300000e+03, 2.03300000e+03, 1.10000000e+02, 1.00000000e+00],\n",
       "       [5.41700000e+03, 0.00000000e+00, 1.68000000e+02, 1.00000000e+00],\n",
       "       [5.81500000e+03, 3.66600000e+03, 3.11000000e+02, 1.00000000e+00],\n",
       "       [4.16600000e+03, 0.00000000e+00, 9.80000000e+01, 0.00000000e+00],\n",
       "       [2.94700000e+03, 1.60300000e+03, 1.28000000e+02, 1.00000000e+00],\n",
       "       [8.62400000e+03, 0.00000000e+00, 1.50000000e+02, 1.00000000e+00],\n",
       "       [9.83300000e+03, 1.83300000e+03, 1.82000000e+02, 1.00000000e+00],\n",
       "       [5.93500000e+03, 0.00000000e+00, 1.33000000e+02, 1.00000000e+00],\n",
       "       [2.02330000e+04, 0.00000000e+00, 4.80000000e+02, 1.00000000e+00],\n",
       "       [4.69200000e+03, 0.00000000e+00, 1.06000000e+02, 1.00000000e+00],\n",
       "       [4.62500000e+03, 2.85700000e+03, 1.11000000e+02, 1.00000000e+00],\n",
       "       [4.41600000e+03, 1.25000000e+03, 1.10000000e+02, 1.00000000e+00],\n",
       "       [9.53800000e+03, 0.00000000e+00, 1.87000000e+02, 1.00000000e+00],\n",
       "       [4.46700000e+03, 0.00000000e+00, 1.20000000e+02, 1.00000000e+00],\n",
       "       [7.20000000e+03, 0.00000000e+00, 1.20000000e+02, 1.00000000e+00],\n",
       "       [7.33300000e+03, 0.00000000e+00, 1.20000000e+02, 1.00000000e+00],\n",
       "       [3.07500000e+03, 2.41600000e+03, 1.39000000e+02, 1.00000000e+00],\n",
       "       [4.09500000e+03, 3.44700000e+03, 1.51000000e+02, 1.00000000e+00],\n",
       "       [1.00000000e+04, 0.00000000e+00, 1.55000000e+02, 1.00000000e+00],\n",
       "       [3.07300000e+03, 8.10600000e+03, 2.00000000e+02, 1.00000000e+00],\n",
       "       [5.84900000e+03, 0.00000000e+00, 1.28000000e+02, 1.00000000e+00],\n",
       "       [3.18000000e+03, 0.00000000e+00, 7.10000000e+01, 0.00000000e+00],\n",
       "       [6.00000000e+03, 0.00000000e+00, 1.41000000e+02, 1.00000000e+00],\n",
       "       [1.66920000e+04, 0.00000000e+00, 1.10000000e+02, 1.00000000e+00],\n",
       "       [5.11600000e+03, 1.45100000e+03, 1.65000000e+02, 0.00000000e+00],\n",
       "       [1.49990000e+04, 0.00000000e+00, 2.42000000e+02, 0.00000000e+00],\n",
       "       [2.06000000e+03, 2.20900000e+03, 1.34000000e+02, 1.00000000e+00],\n",
       "       [5.41700000e+03, 0.00000000e+00, 1.43000000e+02, 0.00000000e+00],\n",
       "       [2.21400000e+03, 1.39800000e+03, 8.50000000e+01, 1.00000000e+00],\n",
       "       [1.81650000e+04, 0.00000000e+00, 1.25000000e+02, 1.00000000e+00],\n",
       "       [3.98700000e+03, 1.41100000e+03, 1.57000000e+02, 1.00000000e+00],\n",
       "       [3.54700000e+03, 0.00000000e+00, 8.00000000e+01, 0.00000000e+00],\n",
       "       [2.21300000e+03, 1.12500000e+03, 1.28000000e+02, 1.00000000e+00],\n",
       "       [1.81100000e+03, 1.66600000e+03, 5.40000000e+01, 1.00000000e+00],\n",
       "       [3.00000000e+03, 0.00000000e+00, 6.60000000e+01, 1.00000000e+00],\n",
       "       [3.81300000e+03, 0.00000000e+00, 1.16000000e+02, 1.00000000e+00],\n",
       "       [5.50000000e+03, 0.00000000e+00, 1.05000000e+02, 0.00000000e+00],\n",
       "       [6.00000000e+03, 0.00000000e+00, 1.56000000e+02, 1.00000000e+00],\n",
       "       [2.98700000e+03, 0.00000000e+00, 8.80000000e+01, 0.00000000e+00],\n",
       "       [2.33300000e+03, 2.41700000e+03, 1.36000000e+02, 1.00000000e+00],\n",
       "       [1.45830000e+04, 0.00000000e+00, 4.36000000e+02, 1.00000000e+00],\n",
       "       [3.16700000e+03, 0.00000000e+00, 7.40000000e+01, 1.00000000e+00],\n",
       "       [2.60900000e+03, 3.44900000e+03, 1.65000000e+02, 0.00000000e+00],\n",
       "       [1.50000000e+04, 0.00000000e+00, 3.00000000e+02, 1.00000000e+00],\n",
       "       [6.12500000e+03, 1.62500000e+03, 1.87000000e+02, 1.00000000e+00],\n",
       "       [1.96300000e+03, 0.00000000e+00, 5.30000000e+01, 1.00000000e+00],\n",
       "       [5.56800000e+03, 2.14200000e+03, 1.75000000e+02, 1.00000000e+00],\n",
       "       [2.30100000e+03, 9.85799988e+02, 7.80000000e+01, 1.00000000e+00],\n",
       "       [4.28300000e+03, 3.00000000e+03, 1.72000000e+02, 1.00000000e+00],\n",
       "       [2.87600000e+03, 1.56000000e+03, 9.00000000e+01, 1.00000000e+00],\n",
       "       [1.72630000e+04, 0.00000000e+00, 2.25000000e+02, 1.00000000e+00],\n",
       "       [4.30000000e+03, 2.01400000e+03, 1.94000000e+02, 1.00000000e+00],\n",
       "       [3.81600000e+03, 7.54000000e+02, 1.60000000e+02, 1.00000000e+00],\n",
       "       [2.10000000e+02, 2.91700000e+03, 9.80000000e+01, 1.00000000e+00],\n",
       "       [5.25000000e+03, 0.00000000e+00, 9.40000000e+01, 1.00000000e+00],\n",
       "       [3.16600000e+03, 2.06400000e+03, 1.04000000e+02, 0.00000000e+00],\n",
       "       [4.75800000e+03, 0.00000000e+00, 1.58000000e+02, 1.00000000e+00],\n",
       "       [5.81900000e+03, 5.00000000e+03, 1.20000000e+02, 1.00000000e+00],\n",
       "       [2.37800000e+03, 0.00000000e+00, 4.60000000e+01, 1.00000000e+00],\n",
       "       [2.69900000e+03, 2.78500000e+03, 9.60000000e+01, 1.00000000e+00],\n",
       "       [3.99200000e+03, 0.00000000e+00, 1.28000000e+02, 1.00000000e+00],\n",
       "       [3.54100000e+03, 0.00000000e+00, 1.12000000e+02, 1.00000000e+00],\n",
       "       [4.69100000e+03, 0.00000000e+00, 1.00000000e+02, 1.00000000e+00],\n",
       "       [2.60000000e+03, 3.50000000e+03, 1.15000000e+02, 1.00000000e+00],\n",
       "       [3.90000000e+03, 0.00000000e+00, 9.00000000e+01, 1.00000000e+00],\n",
       "       [4.00000000e+03, 2.50000000e+03, 1.40000000e+02, 1.00000000e+00],\n",
       "       [6.25000000e+03, 1.69500000e+03, 2.10000000e+02, 1.00000000e+00],\n",
       "       [3.33300000e+03, 2.00000000e+03, 9.90000000e+01, 1.00000000e+00],\n",
       "       [2.66600000e+03, 4.30000000e+03, 1.21000000e+02, 1.00000000e+00],\n",
       "       [2.58300000e+03, 2.11500000e+03, 1.20000000e+02, 1.00000000e+00],\n",
       "       [4.92300000e+03, 0.00000000e+00, 1.66000000e+02, 0.00000000e+00],\n",
       "       [3.70400000e+03, 2.00000000e+03, 1.20000000e+02, 1.00000000e+00],\n",
       "       [4.34400000e+03, 7.36000000e+02, 8.70000000e+01, 1.00000000e+00],\n",
       "       [6.00000000e+03, 0.00000000e+00, 1.60000000e+02, 1.00000000e+00],\n",
       "       [2.66600000e+03, 2.08300000e+03, 9.50000000e+01, 1.00000000e+00],\n",
       "       [7.93300000e+03, 0.00000000e+00, 2.75000000e+02, 1.00000000e+00],\n",
       "       [5.25000000e+03, 6.88000000e+02, 1.60000000e+02, 1.00000000e+00],\n",
       "       [5.69500000e+03, 4.16700000e+03, 1.75000000e+02, 1.00000000e+00],\n",
       "       [2.50000000e+03, 3.79600000e+03, 1.20000000e+02, 1.00000000e+00],\n",
       "       [3.75000000e+03, 0.00000000e+00, 1.16000000e+02, 1.00000000e+00],\n",
       "       [3.53900000e+03, 1.37600000e+03, 5.50000000e+01, 1.00000000e+00],\n",
       "       [2.88200000e+03, 1.84300000e+03, 1.23000000e+02, 1.00000000e+00],\n",
       "       [3.46300000e+03, 0.00000000e+00, 1.22000000e+02, 1.00000000e+00],\n",
       "       [4.16600000e+03, 3.36900000e+03, 2.01000000e+02, 1.00000000e+00],\n",
       "       [4.40800000e+03, 0.00000000e+00, 1.20000000e+02, 1.00000000e+00],\n",
       "       [3.06200000e+03, 1.98700000e+03, 1.11000000e+02, 0.00000000e+00],\n",
       "       [3.16600000e+03, 0.00000000e+00, 3.60000000e+01, 1.00000000e+00],\n",
       "       [7.45100000e+03, 0.00000000e+00, 1.28000000e+02, 1.00000000e+00],\n",
       "       [8.33400000e+03, 0.00000000e+00, 1.60000000e+02, 1.00000000e+00],\n",
       "       [2.93500000e+03, 0.00000000e+00, 9.80000000e+01, 1.00000000e+00],\n",
       "       [7.14200000e+03, 0.00000000e+00, 1.38000000e+02, 1.00000000e+00],\n",
       "       [2.72000000e+03, 0.00000000e+00, 8.00000000e+01, 0.00000000e+00],\n",
       "       [5.72600000e+03, 4.59500000e+03, 2.58000000e+02, 1.00000000e+00],\n",
       "       [2.13200000e+03, 1.59100000e+03, 9.60000000e+01, 1.00000000e+00],\n",
       "       [3.16700000e+03, 2.28300000e+03, 1.54000000e+02, 1.00000000e+00],\n",
       "       [4.55400000e+03, 1.22900000e+03, 1.58000000e+02, 1.00000000e+00],\n",
       "       [2.91700000e+03, 5.36000000e+02, 6.60000000e+01, 1.00000000e+00],\n",
       "       [2.52600000e+03, 1.78300000e+03, 1.45000000e+02, 1.00000000e+00],\n",
       "       [2.50000000e+03, 0.00000000e+00, 5.50000000e+01, 1.00000000e+00]])"
      ]
     },
     "execution_count": 126,
     "metadata": {},
     "output_type": "execute_result"
    }
   ],
   "source": [
    "X_testset"
   ]
  },
  {
   "cell_type": "code",
   "execution_count": 127,
   "metadata": {},
   "outputs": [
    {
     "data": {
      "text/plain": [
       "0.7908496732026143"
      ]
     },
     "execution_count": 127,
     "metadata": {},
     "output_type": "execute_result"
    }
   ],
   "source": [
    "from sklearn import metrics\n",
    "metrics.f1_score(y_testset, yhat, average='weighted', labels=np.unique(yhat))"
   ]
  },
  {
   "cell_type": "code",
   "execution_count": 128,
   "metadata": {},
   "outputs": [
    {
     "data": {
      "text/plain": [
       "370"
      ]
     },
     "execution_count": 128,
     "metadata": {},
     "output_type": "execute_result"
    }
   ],
   "source": [
    "yhat_prob.size"
   ]
  },
  {
   "cell_type": "code",
   "execution_count": 129,
   "metadata": {},
   "outputs": [
    {
     "data": {
      "text/plain": [
       "(185, 4)"
      ]
     },
     "execution_count": 129,
     "metadata": {},
     "output_type": "execute_result"
    }
   ],
   "source": [
    "X_testset.shape"
   ]
  },
  {
   "cell_type": "code",
   "execution_count": 153,
   "metadata": {},
   "outputs": [
    {
     "data": {
      "text/plain": [
       "(123,)"
      ]
     },
     "execution_count": 153,
     "metadata": {},
     "output_type": "execute_result"
    }
   ],
   "source": [
    "y_testset.shape"
   ]
  },
  {
   "cell_type": "code",
   "execution_count": 154,
   "metadata": {},
   "outputs": [
    {
     "data": {
      "text/plain": [
       "array([[0, 0, '0', ..., 360.0, 1.0, 0],\n",
       "       [0, 0, '0', ..., 360.0, 1.0, 1],\n",
       "       [0, 0, '0', ..., 180.0, 1.0, 0],\n",
       "       ...,\n",
       "       [0, 0, '0', ..., 360.0, 1.0, 1],\n",
       "       [1, 1, '0', ..., 180.0, 1.0, 1],\n",
       "       [1, 0, '0', ..., 360.0, 0.0, 0]], dtype=object)"
      ]
     },
     "execution_count": 154,
     "metadata": {},
     "output_type": "execute_result"
    }
   ],
   "source": [
    "X_testset"
   ]
  },
  {
   "cell_type": "code",
   "execution_count": 155,
   "metadata": {},
   "outputs": [
    {
     "data": {
      "text/plain": [
       "array([1, 0, 0, 1, 1, 1, 0, 0, 1, 0, 1, 0, 1, 0, 0, 0, 1, 0, 0, 1, 0, 0,\n",
       "       1, 1, 0, 1, 0, 0, 0, 0, 0, 0, 0, 1, 0, 0, 1, 0, 1, 0, 0, 0, 0, 1,\n",
       "       0, 0, 0, 0, 0, 0, 0, 0, 1, 0, 0, 1, 1, 0, 1, 0, 0, 1, 1, 0, 0, 1,\n",
       "       1, 1, 0, 1, 0, 1, 0, 1, 1, 0, 0, 0, 1, 0, 1, 0, 0, 1, 0, 0, 0, 0,\n",
       "       1, 1, 1, 0, 0, 0, 1, 1, 0, 0, 0, 0, 0, 1, 0, 0, 1, 0, 0, 1, 0, 0,\n",
       "       1, 1, 0, 1, 0, 0, 0, 1, 0, 0, 0, 0, 1], dtype=uint8)"
      ]
     },
     "execution_count": 155,
     "metadata": {},
     "output_type": "execute_result"
    }
   ],
   "source": [
    "y_testset"
   ]
  },
  {
   "cell_type": "code",
   "execution_count": 103,
   "metadata": {},
   "outputs": [
    {
     "name": "stdout",
     "output_type": "stream",
     "text": [
      "               Specs         Score\n",
      "5  CoapplicantIncome  11342.041603\n",
      "4    ApplicantIncome     93.904964\n",
      "6         LoanAmount     32.821655\n",
      "8     Credit_History     26.005877\n",
      "9      Property_Area      4.410584\n",
      "7   Loan_Amount_Term      3.778554\n",
      "1            Married      3.355645\n",
      "2          Education      0.988390\n",
      "0             Gender      0.162407\n",
      "3      Self_Employed      0.001123\n"
     ]
    }
   ],
   "source": [
    "from sklearn.feature_selection import SelectKBest\n",
    "from sklearn.feature_selection import chi2\n",
    "#data = pd.read_csv(\"D://Blogs//train.csv\")\n",
    "A = df[['Gender','Married','Education','Self_Employed','ApplicantIncome','CoapplicantIncome','LoanAmount','Loan_Amount_Term','Credit_History','Property_Area']]  #independent columns\n",
    "b = df.iloc[:,-1]    #target column i.e price range\n",
    "#apply SelectKBest class to extract top 10 best features\n",
    "bestfeatures = SelectKBest(score_func=chi2, k=10)\n",
    "fit = bestfeatures.fit(A,b)\n",
    "dfscores = pd.DataFrame(fit.scores_)\n",
    "dfcolumns = pd.DataFrame(A.columns)\n",
    "#concat two dataframes for better visualization \n",
    "featureScores = pd.concat([dfcolumns,dfscores],axis=1)\n",
    "featureScores.columns = ['Specs','Score']  #naming the dataframe columns\n",
    "print(featureScores.nlargest(10,'Score'))  #print 10 best features"
   ]
  },
  {
   "cell_type": "code",
   "execution_count": null,
   "metadata": {},
   "outputs": [],
   "source": []
  }
 ],
 "metadata": {
  "kernelspec": {
   "display_name": "Python 3",
   "language": "python",
   "name": "python3"
  },
  "language_info": {
   "codemirror_mode": {
    "name": "ipython",
    "version": 3
   },
   "file_extension": ".py",
   "mimetype": "text/x-python",
   "name": "python",
   "nbconvert_exporter": "python",
   "pygments_lexer": "ipython3",
   "version": "3.7.1"
  }
 },
 "nbformat": 4,
 "nbformat_minor": 2
}
